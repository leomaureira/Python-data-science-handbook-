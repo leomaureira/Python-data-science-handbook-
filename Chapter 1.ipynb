{
 "cells": [
  {
   "cell_type": "code",
   "execution_count": 3,
   "id": "a55b7f3c",
   "metadata": {},
   "outputs": [
    {
     "name": "stdout",
     "output_type": "stream",
     "text": [
      "Help on built-in function len in module builtins:\n",
      "\n",
      "len(obj, /)\n",
      "    Return the number of items in a container.\n",
      "\n"
     ]
    }
   ],
   "source": [
    "help(len)"
   ]
  },
  {
   "cell_type": "code",
   "execution_count": 4,
   "id": "1be799b4",
   "metadata": {},
   "outputs": [],
   "source": [
    "len?"
   ]
  },
  {
   "cell_type": "code",
   "execution_count": 11,
   "id": "8d37f183",
   "metadata": {},
   "outputs": [
    {
     "data": {
      "text/plain": [
       "[1, 2, 3]"
      ]
     },
     "execution_count": 11,
     "metadata": {},
     "output_type": "execute_result"
    }
   ],
   "source": [
    " [1,2,3]"
   ]
  },
  {
   "cell_type": "code",
   "execution_count": 6,
   "id": "1a8929c8",
   "metadata": {},
   "outputs": [],
   "source": [
    "L.insert?\n",
    "# for a description. Also can use ??"
   ]
  },
  {
   "cell_type": "code",
   "execution_count": 8,
   "id": "24f870d1",
   "metadata": {},
   "outputs": [],
   "source": [
    "L.insert(0, 4)\n",
    "# to add a element in a array .insert (index, element)"
   ]
  },
  {
   "cell_type": "code",
   "execution_count": 6,
   "id": "395a8a3a",
   "metadata": {},
   "outputs": [
    {
     "ename": "NameError",
     "evalue": "name 'L' is not defined",
     "output_type": "error",
     "traceback": [
      "\u001b[1;31m---------------------------------------------------------------------------\u001b[0m",
      "\u001b[1;31mNameError\u001b[0m                                 Traceback (most recent call last)",
      "\u001b[1;32m~\\AppData\\Local\\Temp\\ipykernel_6212\\3155400470.py\u001b[0m in \u001b[0;36m<module>\u001b[1;34m\u001b[0m\n\u001b[1;32m----> 1\u001b[1;33m \u001b[0mL\u001b[0m\u001b[1;33m\u001b[0m\u001b[1;33m\u001b[0m\u001b[0m\n\u001b[0m",
      "\u001b[1;31mNameError\u001b[0m: name 'L' is not defined"
     ]
    }
   ],
   "source": [
    "L"
   ]
  },
  {
   "cell_type": "code",
   "execution_count": 18,
   "id": "52a34c07",
   "metadata": {},
   "outputs": [],
   "source": [
    "def square(a):\n",
    "    \"return square of a \"\n",
    "    return a**2"
   ]
  },
  {
   "cell_type": "code",
   "execution_count": 22,
   "id": "71f7cfd0",
   "metadata": {},
   "outputs": [],
   "source": [
    "square?\n",
    "#also works with functions. If you add a description like in the function above "
   ]
  },
  {
   "cell_type": "code",
   "execution_count": 20,
   "id": "b4f6fd5a",
   "metadata": {},
   "outputs": [],
   "source": [
    "square??"
   ]
  },
  {
   "cell_type": "code",
   "execution_count": 21,
   "id": "5af31f56",
   "metadata": {},
   "outputs": [],
   "source": [
    "len??"
   ]
  },
  {
   "cell_type": "code",
   "execution_count": null,
   "id": "4af43049",
   "metadata": {},
   "outputs": [],
   "source": [
    "L.\n",
    "# You can write . and press tab and jupyter show a list of functions that can help you"
   ]
  },
  {
   "cell_type": "code",
   "execution_count": null,
   "id": "2b75bbc6",
   "metadata": {},
   "outputs": [],
   "source": [
    "#Shortcuts\n",
    "# ctl-a Go to the beggining of the line\n",
    "# ctrl-e Go to the end of the line\n",
    "# ctrl-b or left key move one character to the left (back)\n",
    "# ctrl-f or rigth key move on character to the right (forward)\n",
    "# a create one row above\n",
    "# b create one row behind\n",
    "# dd delete row\n",
    "# ctrl-enter run the row and create one row behind\n",
    "# ctrl-d delete line \n",
    "# ctrl-k cut text from the cursor to the end of the line\n",
    "# ctrl-u cut text from the beggining of the line to the cursor\n",
    "# ctrl-y Yank (i.e paste text previously cut) text previusly cut\n",
    "# ctrl-t traspose (i.e. switch) previous two characters"
   ]
  },
  {
   "cell_type": "code",
   "execution_count": 28,
   "id": "21b4f64c",
   "metadata": {},
   "outputs": [
    {
     "name": "stderr",
     "output_type": "stream",
     "text": [
      "UsageError: Line magic function `%paste` not found.\n"
     ]
    }
   ],
   "source": [
    "%paste\n",
    "def square(a):\n",
    "    \"return square of a \"\n",
    "    return a**2"
   ]
  },
  {
   "cell_type": "code",
   "execution_count": null,
   "id": "93149ecf",
   "metadata": {},
   "outputs": [],
   "source": [
    "%run \"directory\" \n",
    "#This can run a script hosted in another file"
   ]
  },
  {
   "cell_type": "code",
   "execution_count": null,
   "id": "6f8c3ddd",
   "metadata": {},
   "outputs": [],
   "source": [
    "%timeit for a single line\n",
    "%%timeit for a multiple line cell\n",
    "#this command determine the execution time "
   ]
  },
  {
   "cell_type": "code",
   "execution_count": 1,
   "id": "9c2c8dc6",
   "metadata": {},
   "outputs": [],
   "source": [
    "%timeit?\n",
    "#You also can use the ? sign for a description"
   ]
  },
  {
   "cell_type": "code",
   "execution_count": 2,
   "id": "3714fb2e",
   "metadata": {},
   "outputs": [],
   "source": [
    "%magic or %lsmagic\n",
    "# for a list of magic functions"
   ]
  },
  {
   "cell_type": "code",
   "execution_count": 12,
   "id": "2642898d",
   "metadata": {},
   "outputs": [
    {
     "name": "stdout",
     "output_type": "stream",
     "text": [
      "[1, 2, 3]\n"
     ]
    }
   ],
   "source": [
    "print(Out[11]) \n",
    "#This only works if you don't assign it a variable. Also works for In"
   ]
  },
  {
   "cell_type": "code",
   "execution_count": 13,
   "id": "e4ebf058",
   "metadata": {},
   "outputs": [
    {
     "name": "stdout",
     "output_type": "stream",
     "text": [
      "[1, 2, 3]\n"
     ]
    }
   ],
   "source": [
    "# Also works with underscore (_ __ ___)\n",
    "print(_)"
   ]
  },
  {
   "cell_type": "code",
   "execution_count": 14,
   "id": "de34ff48",
   "metadata": {},
   "outputs": [
    {
     "data": {
      "text/plain": [
       "[1, 2, 3]"
      ]
     },
     "execution_count": 14,
     "metadata": {},
     "output_type": "execute_result"
    }
   ],
   "source": [
    "_11\n",
    "#this is equivalent to code Out[11]"
   ]
  },
  {
   "cell_type": "code",
   "execution_count": 15,
   "id": "2a29ab8f",
   "metadata": {},
   "outputs": [],
   "source": [
    "_11;\n",
    "#The semicolon supress output"
   ]
  },
  {
   "cell_type": "code",
   "execution_count": 16,
   "id": "c4ec3107",
   "metadata": {},
   "outputs": [],
   "source": [
    "%history -n beggining end\n",
    "#plot the cells "
   ]
  },
  {
   "cell_type": "code",
   "execution_count": 1,
   "id": "a4a695d1",
   "metadata": {},
   "outputs": [],
   "source": [
    "directory = !pwd"
   ]
  },
  {
   "cell_type": "code",
   "execution_count": 2,
   "id": "c19e30be",
   "metadata": {},
   "outputs": [
    {
     "name": "stdout",
     "output_type": "stream",
     "text": [
      "[\"'pwd' is not recognized as an internal or external command,\", 'operable program or batch file.']\n"
     ]
    }
   ],
   "source": [
    "print(directory)"
   ]
  },
  {
   "cell_type": "code",
   "execution_count": 3,
   "id": "824b0b7e",
   "metadata": {},
   "outputs": [
    {
     "data": {
      "text/plain": [
       "'C:\\\\Users\\\\leand\\\\Python data science handbook'"
      ]
     },
     "execution_count": 3,
     "metadata": {},
     "output_type": "execute_result"
    }
   ],
   "source": [
    "%pwd"
   ]
  },
  {
   "cell_type": "code",
   "execution_count": null,
   "id": "f0db573b",
   "metadata": {},
   "outputs": [],
   "source": [
    "#There is a list of shell functions that can be used if the percent sign (%) is entered beforehand."
   ]
  },
  {
   "cell_type": "code",
   "execution_count": null,
   "id": "604f821a",
   "metadata": {},
   "outputs": [],
   "source": [
    "#Python time magic commands\n",
    "%time #time the execution time of a single statement\n",
    "%timeit #time the execution time repeated times for more accuracy\n",
    "# Before use this commands below you must install the line_profiler and memory_profiler\n",
    "%prun #run code with the profiler\n",
    "%lrun #run code with the line-by-line profiler\n",
    "%memit #measure the memory of a sigle statement\n",
    "%mprun #Run code with the line-by-line memory profiler"
   ]
  },
  {
   "cell_type": "code",
   "execution_count": null,
   "id": "86ddb36a",
   "metadata": {},
   "outputs": [],
   "source": [
    "#For longer running commands %time is a better choice than %timeit"
   ]
  },
  {
   "cell_type": "code",
   "execution_count": null,
   "id": "920e4d08",
   "metadata": {},
   "outputs": [],
   "source": [
    "%lrun #You've got to install first the line-by-line profiler.\n",
    "# This function shows you line-by-line the time of execution of a function"
   ]
  },
  {
   "cell_type": "code",
   "execution_count": null,
   "id": "af4292bc",
   "metadata": {},
   "outputs": [],
   "source": [
    "# %mprun works only for functions defined in separate modules rather than\n",
    "#the notebook itself, so we’ll start by using the %%file magic to create a simple module\n",
    "Page 47 in book"
   ]
  },
  {
   "cell_type": "code",
   "execution_count": null,
   "id": "c1915ee7",
   "metadata": {},
   "outputs": [],
   "source": []
  }
 ],
 "metadata": {
  "kernelspec": {
   "display_name": "Python 3 (ipykernel)",
   "language": "python",
   "name": "python3"
  },
  "language_info": {
   "codemirror_mode": {
    "name": "ipython",
    "version": 3
   },
   "file_extension": ".py",
   "mimetype": "text/x-python",
   "name": "python",
   "nbconvert_exporter": "python",
   "pygments_lexer": "ipython3",
   "version": "3.9.13"
  }
 },
 "nbformat": 4,
 "nbformat_minor": 5
}
