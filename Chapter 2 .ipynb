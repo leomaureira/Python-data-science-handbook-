{
 "cells": [
  {
   "cell_type": "code",
   "execution_count": 1,
   "id": "41c9f201",
   "metadata": {},
   "outputs": [],
   "source": [
    "import numpy as np"
   ]
  },
  {
   "cell_type": "code",
   "execution_count": null,
   "id": "319f5d7a",
   "metadata": {},
   "outputs": [],
   "source": [
    "# An integer in python contain four pieces\n",
    "# Obj_ref : A reference count that helps python silently handle memory allocation and dealocation\n",
    "# Obj_type: encodes the type of variable\n",
    "#Obj_size: Identifies the size of the object\n",
    "#Obj_digit: The digit that represents"
   ]
  },
  {
   "cell_type": "code",
   "execution_count": null,
   "id": "74556c6d",
   "metadata": {},
   "outputs": [],
   "source": [
    "#The dynamic array type used by Python may contain redundant information."
   ]
  },
  {
   "cell_type": "code",
   "execution_count": null,
   "id": "5ea51f32",
   "metadata": {},
   "outputs": [],
   "source": [
    "#Fixed types of arrays in Numpy"
   ]
  },
  {
   "cell_type": "code",
   "execution_count": 3,
   "id": "e31539e2",
   "metadata": {},
   "outputs": [
    {
     "data": {
      "text/plain": [
       "array([1, 5, 2, 3])"
      ]
     },
     "execution_count": 3,
     "metadata": {},
     "output_type": "execute_result"
    }
   ],
   "source": [
    "#Integer array\n",
    "np.array([1, 5, 2 , 3])"
   ]
  },
  {
   "cell_type": "code",
   "execution_count": 4,
   "id": "5576f3be",
   "metadata": {},
   "outputs": [
    {
     "data": {
      "text/plain": [
       "array([1.5, 2. , 3. , 5. ], dtype=float32)"
      ]
     },
     "execution_count": 4,
     "metadata": {},
     "output_type": "execute_result"
    }
   ],
   "source": [
    "#float array\n",
    "np.array([1.5, 2 ,3 ,5 ], dtype = 'float32')"
   ]
  },
  {
   "cell_type": "code",
   "execution_count": null,
   "id": "f14da9a9",
   "metadata": {},
   "outputs": [],
   "source": [
    "#If I create an integer array with a float value, \n",
    "#numpy will automatically upcast the array to the smallest possible floating-point data type \n",
    "#that can accurately represent the float value."
   ]
  },
  {
   "cell_type": "code",
   "execution_count": 6,
   "id": "592a55ae",
   "metadata": {},
   "outputs": [
    {
     "data": {
      "text/plain": [
       "array([[2, 3, 4],\n",
       "       [4, 5, 6],\n",
       "       [6, 7, 8]])"
      ]
     },
     "execution_count": 6,
     "metadata": {},
     "output_type": "execute_result"
    }
   ],
   "source": [
    "#Numpy arrays can be multidimensional\n",
    "np.array([range(i, i+3) for i in [2, 4, 6]])"
   ]
  },
  {
   "cell_type": "code",
   "execution_count": 7,
   "id": "8b216dbf",
   "metadata": {},
   "outputs": [
    {
     "data": {
      "text/plain": [
       "array([0, 0, 0, 0, 0])"
      ]
     },
     "execution_count": 7,
     "metadata": {},
     "output_type": "execute_result"
    }
   ],
   "source": [
    "#array of zeros\n",
    "lenght = 5\n",
    "np.zeros(lenght, dtype=int)"
   ]
  },
  {
   "cell_type": "code",
   "execution_count": null,
   "id": "5ff0a84d",
   "metadata": {},
   "outputs": [],
   "source": [
    "#array of ones\n",
    "np.ones((3, 5), dtype=float)"
   ]
  },
  {
   "cell_type": "code",
   "execution_count": 8,
   "id": "09c10a8b",
   "metadata": {},
   "outputs": [
    {
     "data": {
      "text/plain": [
       "array([[2.5, 2.5],\n",
       "       [2.5, 2.5],\n",
       "       [2.5, 2.5]])"
      ]
     },
     "execution_count": 8,
     "metadata": {},
     "output_type": "execute_result"
    }
   ],
   "source": [
    "dim = (3,2)\n",
    "value = 2.5\n",
    "np.full(dim, value)"
   ]
  },
  {
   "cell_type": "code",
   "execution_count": 10,
   "id": "962115f0",
   "metadata": {},
   "outputs": [
    {
     "data": {
      "text/plain": [
       "array([ 1,  3,  5,  7,  9, 11, 13, 15, 17, 19])"
      ]
     },
     "execution_count": 10,
     "metadata": {},
     "output_type": "execute_result"
    }
   ],
   "source": [
    "start = 1\n",
    "ending = 20\n",
    "step = 2\n",
    "np.arange(start, ending, step)"
   ]
  },
  {
   "cell_type": "code",
   "execution_count": 11,
   "id": "81cf39d7",
   "metadata": {},
   "outputs": [
    {
     "data": {
      "text/plain": [
       "array([ 1.        ,  3.71428571,  6.42857143,  9.14285714, 11.85714286,\n",
       "       14.57142857, 17.28571429, 20.        ])"
      ]
     },
     "execution_count": 11,
     "metadata": {},
     "output_type": "execute_result"
    }
   ],
   "source": [
    "# Create an array of n values evenly spaced between start and ending\n",
    "n = 8\n",
    "np.linspace(start, ending, n)"
   ]
  },
  {
   "cell_type": "code",
   "execution_count": 3,
   "id": "afc8daba",
   "metadata": {},
   "outputs": [
    {
     "name": "stdout",
     "output_type": "stream",
     "text": [
      "[[0.54937222 0.01780644 0.51342452]\n",
      " [0.38112752 0.24386034 0.77446739]\n",
      " [0.6841328  0.41468371 0.60818504]]\n",
      "[[ 0.81545375  0.96028033 -0.73964461]\n",
      " [-0.45926908 -0.23649996 -0.38936673]\n",
      " [ 1.00290607  1.45771872  0.4789878 ]]\n",
      "[[5 8 9]\n",
      " [5 5 6]\n",
      " [2 2 3]]\n"
     ]
    }
   ],
   "source": [
    "A = np.random.random((3,3))# random values between 0 and 1\n",
    "B = np.random.normal(0,1,(3,3))# Create a 3x3 array of normally distributed random values\n",
    " # with mean 0 and standard deviation 1\n",
    "C = np.random.randint(0, 10, (3,3)) # Create a 3x3 array of random integers in the interval [0, 10)\n",
    "print(A)\n",
    "print(B)\n",
    "print(C)"
   ]
  },
  {
   "cell_type": "code",
   "execution_count": 16,
   "id": "1b8edc3f",
   "metadata": {},
   "outputs": [
    {
     "data": {
      "text/plain": [
       "array([[1., 0., 0.],\n",
       "       [0., 1., 0.],\n",
       "       [0., 0., 1.]])"
      ]
     },
     "execution_count": 16,
     "metadata": {},
     "output_type": "execute_result"
    }
   ],
   "source": [
    "np.eye(3) # Identity "
   ]
  },
  {
   "cell_type": "code",
   "execution_count": 5,
   "id": "63448ffa",
   "metadata": {},
   "outputs": [
    {
     "data": {
      "text/plain": [
       "array([1.41567197e-311, 0.00000000e+000, 4.94065646e-324])"
      ]
     },
     "execution_count": 5,
     "metadata": {},
     "output_type": "execute_result"
    }
   ],
   "source": [
    "# Create an uninitialized array of three integers\n",
    " # The values will be whatever happens to already exist at that\n",
    " # memory location\n",
    "np.empty(3)"
   ]
  },
  {
   "cell_type": "code",
   "execution_count": null,
   "id": "30085fc2",
   "metadata": {},
   "outputs": [],
   "source": [
    "# You can use differents types in numpy this are details in page 59 of pdf in the table 2-1"
   ]
  },
  {
   "cell_type": "code",
   "execution_count": null,
   "id": "a6fc51f4",
   "metadata": {},
   "outputs": [],
   "source": [
    "#Numpy Atributes"
   ]
  },
  {
   "cell_type": "code",
   "execution_count": 7,
   "id": "49ea6efa",
   "metadata": {},
   "outputs": [
    {
     "data": {
      "text/plain": [
       "2"
      ]
     },
     "execution_count": 7,
     "metadata": {},
     "output_type": "execute_result"
    }
   ],
   "source": [
    "#Dimension\n",
    "C.ndim"
   ]
  },
  {
   "cell_type": "code",
   "execution_count": 8,
   "id": "310e908c",
   "metadata": {},
   "outputs": [
    {
     "data": {
      "text/plain": [
       "(3, 3)"
      ]
     },
     "execution_count": 8,
     "metadata": {},
     "output_type": "execute_result"
    }
   ],
   "source": [
    "#Shape\n",
    "C.shape"
   ]
  },
  {
   "cell_type": "code",
   "execution_count": 9,
   "id": "cb0e853f",
   "metadata": {},
   "outputs": [
    {
     "data": {
      "text/plain": [
       "9"
      ]
     },
     "execution_count": 9,
     "metadata": {},
     "output_type": "execute_result"
    }
   ],
   "source": [
    "#Size\n",
    "C.size"
   ]
  },
  {
   "cell_type": "code",
   "execution_count": 10,
   "id": "0f934bfb",
   "metadata": {},
   "outputs": [
    {
     "data": {
      "text/plain": [
       "dtype('int32')"
      ]
     },
     "execution_count": 10,
     "metadata": {},
     "output_type": "execute_result"
    }
   ],
   "source": [
    "#Dtype\n",
    "C.dtype"
   ]
  },
  {
   "cell_type": "code",
   "execution_count": 13,
   "id": "8ef72a09",
   "metadata": {},
   "outputs": [
    {
     "data": {
      "text/plain": [
       "36"
      ]
     },
     "execution_count": 13,
     "metadata": {},
     "output_type": "execute_result"
    }
   ],
   "source": [
    "#Size in bytes from each element and the entire list\n",
    "C.itemsize\n",
    "C.nbytes"
   ]
  },
  {
   "cell_type": "code",
   "execution_count": null,
   "id": "33a740d3",
   "metadata": {},
   "outputs": [],
   "source": [
    "#Because in Numpy the arrays have fixed type if I replace with a float value an array with a int\n",
    "#, numpy will silently truncated the value"
   ]
  },
  {
   "cell_type": "code",
   "execution_count": 16,
   "id": "ce705bb4",
   "metadata": {},
   "outputs": [
    {
     "ename": "NameError",
     "evalue": "name 'start' is not defined",
     "output_type": "error",
     "traceback": [
      "\u001b[1;31m---------------------------------------------------------------------------\u001b[0m",
      "\u001b[1;31mNameError\u001b[0m                                 Traceback (most recent call last)",
      "\u001b[1;32m~\\AppData\\Local\\Temp\\ipykernel_6528\\3208925055.py\u001b[0m in \u001b[0;36m<module>\u001b[1;34m\u001b[0m\n\u001b[0;32m      1\u001b[0m \u001b[1;31m#for accesing to a determinate type of sub array we can use the colon notation\u001b[0m\u001b[1;33m\u001b[0m\u001b[1;33m\u001b[0m\u001b[0m\n\u001b[1;32m----> 2\u001b[1;33m \u001b[0mC\u001b[0m\u001b[1;33m[\u001b[0m\u001b[0mstart\u001b[0m\u001b[1;33m:\u001b[0m\u001b[0mend\u001b[0m\u001b[1;33m:\u001b[0m\u001b[0mstep\u001b[0m\u001b[1;33m]\u001b[0m\u001b[1;33m\u001b[0m\u001b[1;33m\u001b[0m\u001b[0m\n\u001b[0m\u001b[0;32m      3\u001b[0m \u001b[1;31m#default values\u001b[0m\u001b[1;33m\u001b[0m\u001b[1;33m\u001b[0m\u001b[0m\n\u001b[0;32m      4\u001b[0m \u001b[1;31m#start = 0\u001b[0m\u001b[1;33m\u001b[0m\u001b[1;33m\u001b[0m\u001b[0m\n\u001b[0;32m      5\u001b[0m \u001b[1;31m#end = size of the array\u001b[0m\u001b[1;33m\u001b[0m\u001b[1;33m\u001b[0m\u001b[0m\n",
      "\u001b[1;31mNameError\u001b[0m: name 'start' is not defined"
     ]
    }
   ],
   "source": [
    "#for accesing to a determinate type of sub array we can use the colon notation\n",
    "C[start:end:step]\n",
    "#default values\n",
    "#start = 0 \n",
    "#end = size of the array\n",
    "#step = 1"
   ]
  },
  {
   "cell_type": "code",
   "execution_count": null,
   "id": "3a601188",
   "metadata": {},
   "outputs": [],
   "source": [
    "#for multidimensional arrays the notation is:\n",
    "C[start_dim1:end_dim1:step_dim1,start_dim2:end_dim2:step_dim2,....,start_dimn:end_dimn:step_dimn]"
   ]
  },
  {
   "cell_type": "markdown",
   "id": "f7ae4226",
   "metadata": {},
   "source": [
    "In the case that i only want to access to a determine row i can omite the column notation.\n",
    "\n",
    "> Example"
   ]
  },
  {
   "cell_type": "code",
   "execution_count": 5,
   "id": "8de567fa",
   "metadata": {},
   "outputs": [
    {
     "data": {
      "text/plain": [
       "array([2, 2, 3])"
      ]
     },
     "execution_count": 5,
     "metadata": {},
     "output_type": "execute_result"
    }
   ],
   "source": [
    "C[2]"
   ]
  },
  {
   "cell_type": "markdown",
   "id": "1a293abe",
   "metadata": {},
   "source": [
    "### Subarrays as no-copy views\n",
    "We can work with sub-arrays and modify this sub-arrays and the original array will be modified.\n",
    "\n",
    "> example"
   ]
  },
  {
   "cell_type": "code",
   "execution_count": 9,
   "id": "f70e52e3",
   "metadata": {},
   "outputs": [
    {
     "data": {
      "text/plain": [
       "array([[2, 8, 9],\n",
       "       [5, 5, 6],\n",
       "       [2, 2, 3]])"
      ]
     },
     "execution_count": 9,
     "metadata": {},
     "output_type": "execute_result"
    }
   ],
   "source": [
    "C2 = C[0:2,0:2]\n",
    "C2[0,0] = 2\n",
    "C"
   ]
  },
  {
   "cell_type": "code",
   "execution_count": null,
   "id": "f9ba40a7",
   "metadata": {},
   "outputs": [],
   "source": [
    "# Page 64"
   ]
  },
  {
   "cell_type": "markdown",
   "id": "7c0cdf84",
   "metadata": {},
   "source": [
    "# Computation on NumPy Arrays: Universal Functions\n",
    "\n",
    "\n",
    "## Exploring NumPy ufucns\n",
    "\n",
    "### Array Arithmetics\n",
    "\n",
    "Numpy ufunc's use Python's native arithmetics functions\n",
    "\n",
    "> examples"
   ]
  },
  {
   "cell_type": "code",
   "execution_count": 4,
   "id": "ee7079b7",
   "metadata": {},
   "outputs": [
    {
     "data": {
      "text/plain": [
       "array([0, 1, 2, 3])"
      ]
     },
     "execution_count": 4,
     "metadata": {},
     "output_type": "execute_result"
    }
   ],
   "source": [
    "x = np.arange(4)"
   ]
  },
  {
   "cell_type": "code",
   "execution_count": 5,
   "id": "530e7b31",
   "metadata": {},
   "outputs": [
    {
     "data": {
      "text/plain": [
       "array([2, 3, 4, 5])"
      ]
     },
     "execution_count": 5,
     "metadata": {},
     "output_type": "execute_result"
    }
   ],
   "source": [
    "x + 2"
   ]
  },
  {
   "cell_type": "code",
   "execution_count": 6,
   "id": "60523ce8",
   "metadata": {},
   "outputs": [
    {
     "data": {
      "text/plain": [
       "array([-2, -1,  0,  1])"
      ]
     },
     "execution_count": 6,
     "metadata": {},
     "output_type": "execute_result"
    }
   ],
   "source": [
    "x - 2 "
   ]
  },
  {
   "cell_type": "code",
   "execution_count": 7,
   "id": "24370ba5",
   "metadata": {},
   "outputs": [
    {
     "data": {
      "text/plain": [
       "array([0, 2, 4, 6])"
      ]
     },
     "execution_count": 7,
     "metadata": {},
     "output_type": "execute_result"
    }
   ],
   "source": [
    "x * 2"
   ]
  },
  {
   "cell_type": "code",
   "execution_count": 8,
   "id": "3d96b548",
   "metadata": {},
   "outputs": [
    {
     "data": {
      "text/plain": [
       "array([0. , 0.5, 1. , 1.5])"
      ]
     },
     "execution_count": 8,
     "metadata": {},
     "output_type": "execute_result"
    }
   ],
   "source": [
    "x / 2"
   ]
  },
  {
   "cell_type": "markdown",
   "id": "6cf967ec",
   "metadata": {},
   "source": [
    "This also works for negation, exponentiation and operator for modulus:"
   ]
  },
  {
   "cell_type": "code",
   "execution_count": 9,
   "id": "b69962ee",
   "metadata": {},
   "outputs": [
    {
     "data": {
      "text/plain": [
       "array([ 0, -1, -2, -3])"
      ]
     },
     "execution_count": 9,
     "metadata": {},
     "output_type": "execute_result"
    }
   ],
   "source": [
    "-x"
   ]
  },
  {
   "cell_type": "code",
   "execution_count": 10,
   "id": "2f74db25",
   "metadata": {},
   "outputs": [
    {
     "data": {
      "text/plain": [
       "array([0, 1, 4, 9], dtype=int32)"
      ]
     },
     "execution_count": 10,
     "metadata": {},
     "output_type": "execute_result"
    }
   ],
   "source": [
    "x ** 2"
   ]
  },
  {
   "cell_type": "code",
   "execution_count": 11,
   "id": "911b447b",
   "metadata": {},
   "outputs": [
    {
     "data": {
      "text/plain": [
       "array([0, 1, 0, 1], dtype=int32)"
      ]
     },
     "execution_count": 11,
     "metadata": {},
     "output_type": "execute_result"
    }
   ],
   "source": [
    "x % 2 "
   ]
  },
  {
   "cell_type": "markdown",
   "id": "0b306fee",
   "metadata": {},
   "source": [
    "We can also strung this operations together:"
   ]
  },
  {
   "cell_type": "code",
   "execution_count": 12,
   "id": "abc399a9",
   "metadata": {},
   "outputs": [
    {
     "data": {
      "text/plain": [
       "array([125,  27,   1,  -1], dtype=int32)"
      ]
     },
     "execution_count": 12,
     "metadata": {},
     "output_type": "execute_result"
    }
   ],
   "source": [
    "(-2 * x + 5) ** 3"
   ]
  },
  {
   "cell_type": "markdown",
   "id": "68f43a0d",
   "metadata": {},
   "source": [
    "### Absolut value"
   ]
  },
  {
   "cell_type": "code",
   "execution_count": 13,
   "id": "f4533167",
   "metadata": {},
   "outputs": [],
   "source": [
    "y = np.array([-2 , 5, -4])"
   ]
  },
  {
   "cell_type": "code",
   "execution_count": 17,
   "id": "0d722850",
   "metadata": {},
   "outputs": [
    {
     "data": {
      "text/plain": [
       "array([2, 5, 4])"
      ]
     },
     "execution_count": 17,
     "metadata": {},
     "output_type": "execute_result"
    }
   ],
   "source": [
    "np.abs(y)"
   ]
  },
  {
   "cell_type": "markdown",
   "id": "f4d2313d",
   "metadata": {},
   "source": [
    "This also work for complex value, returning the magnitude of the element\n",
    "\n",
    "### Trigonometric functions"
   ]
  },
  {
   "cell_type": "code",
   "execution_count": 18,
   "id": "a9ea7015",
   "metadata": {},
   "outputs": [],
   "source": [
    "theeta = np.linspace(0, np.pi, 3)"
   ]
  },
  {
   "cell_type": "code",
   "execution_count": 19,
   "id": "858e59e8",
   "metadata": {},
   "outputs": [
    {
     "data": {
      "text/plain": [
       "array([0.0000000e+00, 1.0000000e+00, 1.2246468e-16])"
      ]
     },
     "execution_count": 19,
     "metadata": {},
     "output_type": "execute_result"
    }
   ],
   "source": [
    "np.sin(theeta)"
   ]
  },
  {
   "cell_type": "code",
   "execution_count": 20,
   "id": "6292c45f",
   "metadata": {},
   "outputs": [
    {
     "data": {
      "text/plain": [
       "array([ 1.000000e+00,  6.123234e-17, -1.000000e+00])"
      ]
     },
     "execution_count": 20,
     "metadata": {},
     "output_type": "execute_result"
    }
   ],
   "source": [
    "np.cos(theeta)"
   ]
  },
  {
   "cell_type": "code",
   "execution_count": 21,
   "id": "bc685bac",
   "metadata": {},
   "outputs": [
    {
     "data": {
      "text/plain": [
       "array([ 0.00000000e+00,  1.63312394e+16, -1.22464680e-16])"
      ]
     },
     "execution_count": 21,
     "metadata": {},
     "output_type": "execute_result"
    }
   ],
   "source": [
    "np.tan(theeta)"
   ]
  },
  {
   "cell_type": "markdown",
   "id": "74686429",
   "metadata": {},
   "source": [
    "Inverse trigonometric functions are also avaliable"
   ]
  },
  {
   "cell_type": "code",
   "execution_count": 22,
   "id": "62c18708",
   "metadata": {},
   "outputs": [],
   "source": [
    "x = np.array([-1, 0, 1])"
   ]
  },
  {
   "cell_type": "markdown",
   "id": "25719fc0",
   "metadata": {},
   "source": [
    "np.arcsin(x)"
   ]
  },
  {
   "cell_type": "code",
   "execution_count": 24,
   "id": "efb20c1f",
   "metadata": {},
   "outputs": [
    {
     "data": {
      "text/plain": [
       "array([3.14159265, 1.57079633, 0.        ])"
      ]
     },
     "execution_count": 24,
     "metadata": {},
     "output_type": "execute_result"
    }
   ],
   "source": [
    "np.arccos(x)"
   ]
  },
  {
   "cell_type": "code",
   "execution_count": 25,
   "id": "7840d58c",
   "metadata": {},
   "outputs": [
    {
     "data": {
      "text/plain": [
       "array([-0.78539816,  0.        ,  0.78539816])"
      ]
     },
     "execution_count": 25,
     "metadata": {},
     "output_type": "execute_result"
    }
   ],
   "source": [
    "np.arctan(x)"
   ]
  },
  {
   "cell_type": "markdown",
   "id": "c805734b",
   "metadata": {},
   "source": [
    "### Exponents and logarithms"
   ]
  },
  {
   "cell_type": "code",
   "execution_count": 28,
   "id": "53b07d33",
   "metadata": {},
   "outputs": [
    {
     "data": {
      "text/plain": [
       "array([ 1,  3,  9, 27], dtype=int32)"
      ]
     },
     "execution_count": 28,
     "metadata": {},
     "output_type": "execute_result"
    }
   ],
   "source": [
    "y = np.arange(4)\n",
    "np.power(3, y)"
   ]
  },
  {
   "cell_type": "code",
   "execution_count": 29,
   "id": "a68853f1",
   "metadata": {},
   "outputs": [
    {
     "data": {
      "text/plain": [
       "array([ 1.        ,  2.71828183,  7.3890561 , 20.08553692])"
      ]
     },
     "execution_count": 29,
     "metadata": {},
     "output_type": "execute_result"
    }
   ],
   "source": [
    "np.exp(y)"
   ]
  },
  {
   "cell_type": "markdown",
   "id": "4f85149c",
   "metadata": {},
   "source": [
    "## Create a copy of an array"
   ]
  },
  {
   "cell_type": "code",
   "execution_count": 1,
   "id": "c2f2b824",
   "metadata": {},
   "outputs": [],
   "source": [
    "import numpy as np"
   ]
  },
  {
   "cell_type": "code",
   "execution_count": null,
   "id": "235a023a",
   "metadata": {},
   "outputs": [],
   "source": [
    "C2 = C[:1,:1].cooy()"
   ]
  },
  {
   "cell_type": "code",
   "execution_count": null,
   "id": "8b7265c4",
   "metadata": {},
   "outputs": [],
   "source": [
    "C2[0,0] = 99\n",
    "C"
   ]
  },
  {
   "cell_type": "markdown",
   "id": "2533bb16",
   "metadata": {},
   "source": [
    "We can see that C is not touched"
   ]
  },
  {
   "cell_type": "markdown",
   "id": "5dcbb06f",
   "metadata": {},
   "source": [
    "# Reshaping of arrays"
   ]
  },
  {
   "cell_type": "markdown",
   "id": "597e22e9",
   "metadata": {},
   "source": [
    "Theres two method for reshaping an array\n",
    "\n",
    "> The reshape method"
   ]
  },
  {
   "cell_type": "code",
   "execution_count": 3,
   "id": "01d2fbbf",
   "metadata": {},
   "outputs": [
    {
     "data": {
      "text/plain": [
       "array([[1, 2, 3],\n",
       "       [4, 5, 6],\n",
       "       [7, 8, 9]])"
      ]
     },
     "execution_count": 3,
     "metadata": {},
     "output_type": "execute_result"
    }
   ],
   "source": [
    "grid = np.arange(1,10).reshape((3,3))\n",
    "grid"
   ]
  },
  {
   "cell_type": "markdown",
   "id": "fa190336",
   "metadata": {},
   "source": [
    "> Another form is using the newaxis method"
   ]
  },
  {
   "cell_type": "code",
   "execution_count": 4,
   "id": "d5e1b001",
   "metadata": {},
   "outputs": [],
   "source": [
    "x = np.array([1, 2, 3])"
   ]
  },
  {
   "cell_type": "code",
   "execution_count": 8,
   "id": "427dd167",
   "metadata": {},
   "outputs": [
    {
     "data": {
      "text/plain": [
       "array([[1],\n",
       "       [2],\n",
       "       [3]])"
      ]
     },
     "execution_count": 9,
     "metadata": {},
     "output_type": "execute_result"
    }
   ],
   "source": [
    "# reshaping into a column vector\n",
    "x[:, np.newaxis]"
   ]
  },
  {
   "cell_type": "markdown",
   "id": "3a99ea33",
   "metadata": {},
   "source": [
    "# Array concatenation and splitting\n",
    "\n",
    "It's possible to combine multiple arrays into one\n",
    "\n",
    "## Concatenation of arrays\n",
    "\n",
    "We can join two arrays using the following routines\n",
    "\n",
    "<ul>\n",
    "    <li>np.concatenate</li>\n",
    "    <li>np.vstack </li>\n",
    "    <li>np.hstack </li>\n",
    "</ul>\n",
    "\n",
    "### ```np.concatenate ```"
   ]
  },
  {
   "cell_type": "code",
   "execution_count": 11,
   "id": "9ca6ffb1",
   "metadata": {},
   "outputs": [
    {
     "data": {
      "text/plain": [
       "array([1, 2, 3, 4, 5, 6])"
      ]
     },
     "execution_count": 11,
     "metadata": {},
     "output_type": "execute_result"
    }
   ],
   "source": [
    "x = np.array([1, 2 ,3 ])\n",
    "y = np.array([4, 5, 6])\n",
    "np.concatenate([x,y])"
   ]
  },
  {
   "cell_type": "markdown",
   "id": "b634de60",
   "metadata": {},
   "source": [
    "Also, we can concatenate more than two arrays"
   ]
  },
  {
   "cell_type": "code",
   "execution_count": 12,
   "id": "f5f5fa26",
   "metadata": {},
   "outputs": [
    {
     "data": {
      "text/plain": [
       "array([1, 2, 3, 4, 5, 6, 0, 0, 0])"
      ]
     },
     "execution_count": 12,
     "metadata": {},
     "output_type": "execute_result"
    }
   ],
   "source": [
    "z = np.array([0, 0, 0])\n",
    "np.concatenate([x, y, z])"
   ]
  },
  {
   "cell_type": "markdown",
   "id": "b5715de8",
   "metadata": {},
   "source": [
    "We can also use it for two dimensional arrays"
   ]
  },
  {
   "cell_type": "code",
   "execution_count": 14,
   "id": "26c9af05",
   "metadata": {},
   "outputs": [
    {
     "data": {
      "text/plain": [
       "array([[1, 2, 3],\n",
       "       [4, 5, 6],\n",
       "       [1, 2, 3],\n",
       "       [4, 5, 6]])"
      ]
     },
     "execution_count": 14,
     "metadata": {},
     "output_type": "execute_result"
    }
   ],
   "source": [
    "u = np.array([[1, 2, 3], [4, 5, 6]])\n",
    "np.concatenate([u, u])"
   ]
  },
  {
   "cell_type": "markdown",
   "id": "87aa7c06",
   "metadata": {},
   "source": [
    "Concatenation along the second axis"
   ]
  },
  {
   "cell_type": "code",
   "execution_count": 15,
   "id": "3671ee79",
   "metadata": {},
   "outputs": [
    {
     "data": {
      "text/plain": [
       "array([[1, 2, 3, 1, 2, 3],\n",
       "       [4, 5, 6, 4, 5, 6]])"
      ]
     },
     "execution_count": 15,
     "metadata": {},
     "output_type": "execute_result"
    }
   ],
   "source": [
    "np.concatenate([u, u], axis = 1)"
   ]
  },
  {
   "cell_type": "markdown",
   "id": "3ac84e4a",
   "metadata": {},
   "source": [
    "### ``` np.vstack``` and ``` np.hstack```"
   ]
  },
  {
   "cell_type": "code",
   "execution_count": 16,
   "id": "98a7deff",
   "metadata": {},
   "outputs": [
    {
     "data": {
      "text/plain": [
       "array([[1, 2, 3],\n",
       "       [1, 2, 3],\n",
       "       [4, 5, 6]])"
      ]
     },
     "execution_count": 16,
     "metadata": {},
     "output_type": "execute_result"
    }
   ],
   "source": [
    "#vertical stacking\n",
    "np.vstack([x,u])"
   ]
  },
  {
   "cell_type": "code",
   "execution_count": 20,
   "id": "a41c07d9",
   "metadata": {},
   "outputs": [
    {
     "data": {
      "text/plain": [
       "array([[1, 1, 2, 3],\n",
       "       [1, 4, 5, 6]])"
      ]
     },
     "execution_count": 20,
     "metadata": {},
     "output_type": "execute_result"
    }
   ],
   "source": [
    "#horizontally stacking\n",
    "np.hstack([np.array([[1],[1]]),u])"
   ]
  },
  {
   "cell_type": "markdown",
   "id": "a238c792",
   "metadata": {},
   "source": [
    "Similarly ```np.dstack``` will stack along the third axis\n",
    "\n",
    "## Splitting of arrays\n",
    "\n",
    "Also, we can split the arrays implementing the functions\n",
    "<ul>\n",
    "    <li>np.split</li>\n",
    "    <li>np.hsplit</li>\n",
    "    <li>np.vsplit</li>\n",
    "</ul>"
   ]
  },
  {
   "cell_type": "code",
   "execution_count": 24,
   "id": "e4bc4324",
   "metadata": {},
   "outputs": [
    {
     "name": "stdout",
     "output_type": "stream",
     "text": [
      "[1 2 3] [99 99] [3 2 1]\n"
     ]
    }
   ],
   "source": [
    "ary = [1, 2, 3, 99, 99, 3, 2, 1]\n",
    "indices_or_sections = [3,5]\n",
    "x1, x2, x3 = np.split(ary, indices_or_sections, axis=0)\n",
    "print (x1, x2, x3)"
   ]
  },
  {
   "cell_type": "markdown",
   "id": "b98f366b",
   "metadata": {},
   "source": [
    "The related functions ```np.hsplit``` and ```np.vsplit``` are similar"
   ]
  },
  {
   "cell_type": "code",
   "execution_count": 26,
   "id": "bb696676",
   "metadata": {},
   "outputs": [
    {
     "data": {
      "text/plain": [
       "array([[0, 1, 2, 3],\n",
       "       [4, 5, 6, 7]])"
      ]
     },
     "execution_count": 26,
     "metadata": {},
     "output_type": "execute_result"
    }
   ],
   "source": [
    "grid = np.arange(8).reshape(2,4)\n",
    "grid"
   ]
  },
  {
   "cell_type": "code",
   "execution_count": 28,
   "id": "286cfe94",
   "metadata": {},
   "outputs": [
    {
     "name": "stdout",
     "output_type": "stream",
     "text": [
      "[[0 1 2 3]]\n",
      "[[4 5 6 7]]\n"
     ]
    }
   ],
   "source": [
    "upper , lower = np.vsplit(grid, [1])\n",
    "print(upper)\n",
    "print(lower)"
   ]
  },
  {
   "cell_type": "code",
   "execution_count": 29,
   "id": "4fab735a",
   "metadata": {},
   "outputs": [
    {
     "name": "stdout",
     "output_type": "stream",
     "text": [
      "[[0 1]\n",
      " [4 5]]\n",
      "[[2 3]\n",
      " [6 7]]\n"
     ]
    }
   ],
   "source": [
    "left, right = np.hsplit(grid, [2])\n",
    "print (left)\n",
    "print (right)"
   ]
  },
  {
   "cell_type": "markdown",
   "id": "283222d3",
   "metadata": {},
   "source": [
    "Similarly, ```np.dsplit``` will split along the third axis"
   ]
  },
  {
   "cell_type": "code",
   "execution_count": 30,
   "id": "3e7305d2",
   "metadata": {},
   "outputs": [],
   "source": [
    "#Computation on NumPy Arrays: Universal Functions\n"
   ]
  },
  {
   "cell_type": "markdown",
   "id": "861cf1e2",
   "metadata": {},
   "source": [
    "# Universal Functions\n",
    "\n",
    "The key to make Numpy useful is to use vectorized operations, generally implemented through Numpy's Universal Functions (ufuncs). This section show how to do calculations on arrays elements much more efficient. \n"
   ]
  },
  {
   "cell_type": "markdown",
   "id": "a277ddbe",
   "metadata": {},
   "source": [
    "## Exponents and logarithms"
   ]
  },
  {
   "cell_type": "code",
   "execution_count": 3,
   "id": "77501878",
   "metadata": {},
   "outputs": [
    {
     "ename": "NameError",
     "evalue": "name 'np' is not defined",
     "output_type": "error",
     "traceback": [
      "\u001b[1;31m---------------------------------------------------------------------------\u001b[0m",
      "\u001b[1;31mNameError\u001b[0m                                 Traceback (most recent call last)",
      "\u001b[1;32m~\\AppData\\Local\\Temp\\ipykernel_3212\\1482108998.py\u001b[0m in \u001b[0;36m<module>\u001b[1;34m\u001b[0m\n\u001b[1;32m----> 1\u001b[1;33m \u001b[0mx\u001b[0m \u001b[1;33m=\u001b[0m \u001b[0mnp\u001b[0m\u001b[1;33m.\u001b[0m\u001b[0marray\u001b[0m\u001b[1;33m(\u001b[0m\u001b[1;33m[\u001b[0m\u001b[1;36m1\u001b[0m\u001b[1;33m,\u001b[0m \u001b[1;36m2\u001b[0m\u001b[1;33m,\u001b[0m \u001b[1;36m3\u001b[0m\u001b[1;33m]\u001b[0m\u001b[1;33m)\u001b[0m\u001b[1;33m\u001b[0m\u001b[1;33m\u001b[0m\u001b[0m\n\u001b[0m\u001b[0;32m      2\u001b[0m \u001b[0mnp\u001b[0m\u001b[1;33m.\u001b[0m\u001b[0mpower\u001b[0m\u001b[1;33m(\u001b[0m\u001b[1;36m3\u001b[0m\u001b[1;33m,\u001b[0m \u001b[0mx\u001b[0m\u001b[1;33m)\u001b[0m\u001b[1;33m\u001b[0m\u001b[1;33m\u001b[0m\u001b[0m\n",
      "\u001b[1;31mNameError\u001b[0m: name 'np' is not defined"
     ]
    }
   ],
   "source": [
    "x = np.array([1, 2, 3])\n",
    "np.power(3, x)"
   ]
  },
  {
   "cell_type": "code",
   "execution_count": 4,
   "id": "6c8f38a3",
   "metadata": {},
   "outputs": [
    {
     "data": {
      "text/plain": [
       "array([ 2.71828183,  7.3890561 , 20.08553692])"
      ]
     },
     "execution_count": 4,
     "metadata": {},
     "output_type": "execute_result"
    }
   ],
   "source": [
    "np.exp(x)"
   ]
  },
  {
   "cell_type": "code",
   "execution_count": 5,
   "id": "f335792a",
   "metadata": {},
   "outputs": [
    {
     "data": {
      "text/plain": [
       "array([0.        , 0.69314718, 1.09861229])"
      ]
     },
     "execution_count": 5,
     "metadata": {},
     "output_type": "execute_result"
    }
   ],
   "source": [
    "np.log(x) # e base"
   ]
  },
  {
   "cell_type": "code",
   "execution_count": 6,
   "id": "22e6ca8a",
   "metadata": {},
   "outputs": [
    {
     "data": {
      "text/plain": [
       "array([0.       , 1.       , 1.5849625])"
      ]
     },
     "execution_count": 6,
     "metadata": {},
     "output_type": "execute_result"
    }
   ],
   "source": [
    "np.log2(x) # 2 base"
   ]
  },
  {
   "cell_type": "code",
   "execution_count": 7,
   "id": "0a258cc3",
   "metadata": {},
   "outputs": [
    {
     "data": {
      "text/plain": [
       "array([0.        , 0.30103   , 0.47712125])"
      ]
     },
     "execution_count": 7,
     "metadata": {},
     "output_type": "execute_result"
    }
   ],
   "source": [
    "np.log10(x) # 10 base"
   ]
  },
  {
   "cell_type": "markdown",
   "id": "913ad96e",
   "metadata": {},
   "source": [
    "For very small input there are some specialized versions that are useful for mantaining precision with very small input"
   ]
  },
  {
   "cell_type": "code",
   "execution_count": 8,
   "id": "472f707b",
   "metadata": {},
   "outputs": [],
   "source": [
    "y = np.array([0, 0.001, 0.01, 0.1])"
   ]
  },
  {
   "cell_type": "code",
   "execution_count": 9,
   "id": "3a9f6962",
   "metadata": {},
   "outputs": [
    {
     "data": {
      "text/plain": [
       "array([ 1.71828183,  6.3890561 , 19.08553692])"
      ]
     },
     "execution_count": 9,
     "metadata": {},
     "output_type": "execute_result"
    }
   ],
   "source": [
    "np.expm1(x) # exp(x) - 1"
   ]
  },
  {
   "cell_type": "code",
   "execution_count": 10,
   "id": "97b83ea3",
   "metadata": {},
   "outputs": [
    {
     "data": {
      "text/plain": [
       "array([0.69314718, 1.09861229, 1.38629436])"
      ]
     },
     "execution_count": 10,
     "metadata": {},
     "output_type": "execute_result"
    }
   ],
   "source": [
    "np.log1p(x) #log(x+1)"
   ]
  },
  {
   "cell_type": "markdown",
   "id": "19d4ff12",
   "metadata": {},
   "source": [
    "## Specialized ufuncs\n",
    "\n",
    "There is a submodule ```scipy.special``` that contains obscure ufuncs"
   ]
  },
  {
   "cell_type": "code",
   "execution_count": 1,
   "id": "4f2c2094",
   "metadata": {},
   "outputs": [],
   "source": [
    "from scipy import special"
   ]
  },
  {
   "cell_type": "code",
   "execution_count": 2,
   "id": "feb062cb",
   "metadata": {},
   "outputs": [
    {
     "ename": "NameError",
     "evalue": "name 'x' is not defined",
     "output_type": "error",
     "traceback": [
      "\u001b[1;31m---------------------------------------------------------------------------\u001b[0m",
      "\u001b[1;31mNameError\u001b[0m                                 Traceback (most recent call last)",
      "\u001b[1;32m~\\AppData\\Local\\Temp\\ipykernel_3212\\1263540975.py\u001b[0m in \u001b[0;36m<module>\u001b[1;34m\u001b[0m\n\u001b[1;32m----> 1\u001b[1;33m \u001b[0mspecial\u001b[0m\u001b[1;33m.\u001b[0m\u001b[0mgamma\u001b[0m\u001b[1;33m(\u001b[0m\u001b[0mx\u001b[0m\u001b[1;33m)\u001b[0m \u001b[1;31m# gamma function\u001b[0m\u001b[1;33m\u001b[0m\u001b[1;33m\u001b[0m\u001b[0m\n\u001b[0m",
      "\u001b[1;31mNameError\u001b[0m: name 'x' is not defined"
     ]
    }
   ],
   "source": [
    "special.gamma(x) # gamma function"
   ]
  },
  {
   "cell_type": "code",
   "execution_count": null,
   "id": "51c3b5a9",
   "metadata": {},
   "outputs": [],
   "source": [
    "special.gammaln(x) # ln|gamma(x)|"
   ]
  },
  {
   "cell_type": "code",
   "execution_count": null,
   "id": "501ac65c",
   "metadata": {},
   "outputs": [],
   "source": [
    "special.beta(x,2)"
   ]
  },
  {
   "cell_type": "code",
   "execution_count": null,
   "id": "d078464e",
   "metadata": {},
   "outputs": [],
   "source": [
    "special.erf(x) #error function"
   ]
  },
  {
   "cell_type": "code",
   "execution_count": null,
   "id": "dd935f19",
   "metadata": {},
   "outputs": [],
   "source": [
    "special.erfinv(x) #complement to error function"
   ]
  },
  {
   "cell_type": "code",
   "execution_count": null,
   "id": "fb481294",
   "metadata": {},
   "outputs": [],
   "source": [
    "special.erfc(x) # error function complement"
   ]
  },
  {
   "cell_type": "markdown",
   "id": "c717ac05",
   "metadata": {},
   "source": [
    "# Advanced Ufunc Features\n",
    "\n",
    "## Specifying output\n",
    "\n",
    "For large calculations, it's useful to specify the array where the result of the calculation will be stored. This can be done using the ```out``` argument of the function\n",
    "\n",
    "> example"
   ]
  },
  {
   "cell_type": "code",
   "execution_count": 13,
   "id": "d26ff6cf",
   "metadata": {},
   "outputs": [
    {
     "data": {
      "text/plain": [
       "array([ 0., 10., 20., 30., 40.])"
      ]
     },
     "execution_count": 13,
     "metadata": {},
     "output_type": "execute_result"
    }
   ],
   "source": [
    "x = np.arange(5)\n",
    "y = np.empty(5)\n",
    "np.multiply(x, 10, out = y)\n",
    "y"
   ]
  },
  {
   "cell_type": "markdown",
   "id": "deab6e18",
   "metadata": {},
   "source": [
    "Also, we can choose the elements in witch we want to write the results"
   ]
  },
  {
   "cell_type": "code",
   "execution_count": 16,
   "id": "3216c64b",
   "metadata": {},
   "outputs": [
    {
     "data": {
      "text/plain": [
       "array([1.00000000e+000, 3.01291842e-295, 2.00000000e+000, 2.27984142e-316,\n",
       "       4.00000000e+000, 0.00000000e+000, 8.00000000e+000, 0.00000000e+000,\n",
       "       1.60000000e+001, 0.00000000e+000])"
      ]
     },
     "execution_count": 16,
     "metadata": {},
     "output_type": "execute_result"
    }
   ],
   "source": [
    "z = np.empty(10)\n",
    "np.power(2, x, out = z[::2]) \n",
    "z"
   ]
  },
  {
   "cell_type": "markdown",
   "id": "da084550",
   "metadata": {},
   "source": [
    "## Aggregates\n",
    "\n",
    "If we'd like to reduce an array we can use the ```reduce``` method of any ufunc.\n",
    "\n",
    "> examples"
   ]
  },
  {
   "cell_type": "code",
   "execution_count": 18,
   "id": "31323046",
   "metadata": {},
   "outputs": [
    {
     "data": {
      "text/plain": [
       "15"
      ]
     },
     "execution_count": 18,
     "metadata": {},
     "output_type": "execute_result"
    }
   ],
   "source": [
    "x = np.arange(1,6)\n",
    "np.add.reduce(x)"
   ]
  },
  {
   "cell_type": "code",
   "execution_count": 19,
   "id": "5b9cd35a",
   "metadata": {},
   "outputs": [
    {
     "data": {
      "text/plain": [
       "120"
      ]
     },
     "execution_count": 19,
     "metadata": {},
     "output_type": "execute_result"
    }
   ],
   "source": [
    "np.multiply.reduce(x)"
   ]
  },
  {
   "cell_type": "markdown",
   "id": "cb898706",
   "metadata": {},
   "source": [
    "If we'd like to store the partial results of the computation we can use the ```accumulate``` method"
   ]
  },
  {
   "cell_type": "code",
   "execution_count": 20,
   "id": "cee30d91",
   "metadata": {},
   "outputs": [
    {
     "data": {
      "text/plain": [
       "array([ 1,  3,  6, 10, 15])"
      ]
     },
     "execution_count": 20,
     "metadata": {},
     "output_type": "execute_result"
    }
   ],
   "source": [
    "np.add.accumulate(x)"
   ]
  },
  {
   "cell_type": "code",
   "execution_count": 21,
   "id": "71218697",
   "metadata": {},
   "outputs": [
    {
     "data": {
      "text/plain": [
       "array([  1,   2,   6,  24, 120])"
      ]
     },
     "execution_count": 21,
     "metadata": {},
     "output_type": "execute_result"
    }
   ],
   "source": [
    "np.multiply.accumulate(x)"
   ]
  },
  {
   "cell_type": "markdown",
   "id": "900482d2",
   "metadata": {},
   "source": [
    "## Outer products\n",
    "\n",
    "With the function ```outer``` we can compute the output of all pairs of two different inputs"
   ]
  },
  {
   "cell_type": "code",
   "execution_count": 3,
   "id": "9e60dd7f",
   "metadata": {},
   "outputs": [],
   "source": [
    "x = np.arange(1,6)"
   ]
  },
  {
   "cell_type": "code",
   "execution_count": 4,
   "id": "61737d93",
   "metadata": {},
   "outputs": [
    {
     "data": {
      "text/plain": [
       "array([[ 1,  2,  3,  4,  5],\n",
       "       [ 2,  4,  6,  8, 10],\n",
       "       [ 3,  6,  9, 12, 15],\n",
       "       [ 4,  8, 12, 16, 20],\n",
       "       [ 5, 10, 15, 20, 25]])"
      ]
     },
     "execution_count": 4,
     "metadata": {},
     "output_type": "execute_result"
    }
   ],
   "source": [
    "np.multiply.outer(x,x)"
   ]
  },
  {
   "cell_type": "markdown",
   "id": "39dc8a98",
   "metadata": {},
   "source": [
    "For more information, we can search in the NumPy and SciPy documentation websides"
   ]
  },
  {
   "cell_type": "markdown",
   "id": "70c3a611",
   "metadata": {},
   "source": [
    "# Aggregations: Min,Max, and Everything in between\n",
    "\n",
    "## Summing the values in an array\n",
    "\n",
    "The sum of all values in an array NumPy can do this using the ```np.sum()``` function:"
   ]
  },
  {
   "cell_type": "code",
   "execution_count": 2,
   "id": "5c219053",
   "metadata": {},
   "outputs": [
    {
     "data": {
      "text/plain": [
       "55.88927153609119"
      ]
     },
     "execution_count": 2,
     "metadata": {},
     "output_type": "execute_result"
    }
   ],
   "source": [
    "A = np.random.random(100)\n",
    "np.sum(A)"
   ]
  },
  {
   "cell_type": "markdown",
   "id": "c9e5624a",
   "metadata": {},
   "source": [
    "## Minimum and Maximum\n",
    "\n",
    "Similarly as Python, NumPy has it's own min and max functions"
   ]
  },
  {
   "cell_type": "code",
   "execution_count": 3,
   "id": "56aa65fd",
   "metadata": {},
   "outputs": [],
   "source": [
    "big = np.random.random(10000)"
   ]
  },
  {
   "cell_type": "code",
   "execution_count": 4,
   "id": "d7a35ee5",
   "metadata": {},
   "outputs": [
    {
     "data": {
      "text/plain": [
       "6.424764837842378e-05"
      ]
     },
     "execution_count": 4,
     "metadata": {},
     "output_type": "execute_result"
    }
   ],
   "source": [
    "np.min(big)"
   ]
  },
  {
   "cell_type": "code",
   "execution_count": 5,
   "id": "275cb8dd",
   "metadata": {},
   "outputs": [
    {
     "data": {
      "text/plain": [
       "0.9999403258345905"
      ]
     },
     "execution_count": 5,
     "metadata": {},
     "output_type": "execute_result"
    }
   ],
   "source": [
    "np.max(big)"
   ]
  },
  {
   "cell_type": "markdown",
   "id": "196526e0",
   "metadata": {},
   "source": [
    "For ```min``` , ```max``` and ```sum``` NumPy has a shorter syntax:"
   ]
  },
  {
   "cell_type": "code",
   "execution_count": 6,
   "id": "b210fe3c",
   "metadata": {},
   "outputs": [
    {
     "data": {
      "text/plain": [
       "6.424764837842378e-05"
      ]
     },
     "execution_count": 6,
     "metadata": {},
     "output_type": "execute_result"
    }
   ],
   "source": [
    "big.min()"
   ]
  },
  {
   "cell_type": "markdown",
   "id": "d0f85324",
   "metadata": {},
   "source": [
    "### Multi Dimensional aggregates\n",
    "\n",
    "One common operation is to agregate along a row or column. By default ```np.sum``` will return the sum over the entire array, but, there's an aditional argument along witch we can especify the axis in witch we wanna aggregate"
   ]
  },
  {
   "cell_type": "code",
   "execution_count": 7,
   "id": "6df3e857",
   "metadata": {},
   "outputs": [],
   "source": [
    "B = np.random.random((3,4))"
   ]
  },
  {
   "cell_type": "code",
   "execution_count": 10,
   "id": "977ceb69",
   "metadata": {},
   "outputs": [
    {
     "data": {
      "text/plain": [
       "array([1.25901439, 1.12365384, 1.41568808, 1.74145484])"
      ]
     },
     "execution_count": 10,
     "metadata": {},
     "output_type": "execute_result"
    }
   ],
   "source": [
    "B.sum(axis = 0) # Sum by column"
   ]
  },
  {
   "cell_type": "markdown",
   "id": "66db63ad",
   "metadata": {},
   "source": [
    "# Computation on Arrays: Broadcasting\n",
    "\n",
    "As the universal function, NumPy's broadcasting functionality use vectorize operations\n",
    "\n",
    "## Introducing Broadcasting\n",
    "\n",
    "For arrays of the same size, binary operations are performed on an element-byelement basis:"
   ]
  },
  {
   "cell_type": "code",
   "execution_count": 11,
   "id": "5279841d",
   "metadata": {},
   "outputs": [
    {
     "data": {
      "text/plain": [
       "array([4, 6, 8])"
      ]
     },
     "execution_count": 11,
     "metadata": {},
     "output_type": "execute_result"
    }
   ],
   "source": [
    "a = np.array([0, 1, 2])\n",
    "b = np.array([4, 5, 6])\n",
    "a + b"
   ]
  },
  {
   "cell_type": "markdown",
   "id": "f904eacc",
   "metadata": {},
   "source": [
    "Broadcasting allow to do theese types of binary operation between arrays of different size. F.E.:"
   ]
  },
  {
   "cell_type": "code",
   "execution_count": 12,
   "id": "44d6b299",
   "metadata": {},
   "outputs": [
    {
     "data": {
      "text/plain": [
       "array([5, 6, 7])"
      ]
     },
     "execution_count": 12,
     "metadata": {},
     "output_type": "execute_result"
    }
   ],
   "source": [
    "a + 5"
   ]
  },
  {
   "cell_type": "markdown",
   "id": "f97f0e60",
   "metadata": {},
   "source": [
    "We can extend this to arrays of higher dimension. "
   ]
  },
  {
   "cell_type": "code",
   "execution_count": 13,
   "id": "0f3b3371",
   "metadata": {},
   "outputs": [],
   "source": [
    "C = np.ones((3,3))"
   ]
  },
  {
   "cell_type": "code",
   "execution_count": 15,
   "id": "2b253ebd",
   "metadata": {},
   "outputs": [
    {
     "data": {
      "text/plain": [
       "array([[1., 2., 3.],\n",
       "       [1., 2., 3.],\n",
       "       [1., 2., 3.]])"
      ]
     },
     "execution_count": 15,
     "metadata": {},
     "output_type": "execute_result"
    }
   ],
   "source": [
    "C + a"
   ]
  },
  {
   "cell_type": "markdown",
   "id": "28cc163e",
   "metadata": {},
   "source": [
    "Here, a is streched, or broadcast along the second dimension in order to match the shape of ```C```. \n",
    "\n",
    "Another example:"
   ]
  },
  {
   "cell_type": "code",
   "execution_count": 16,
   "id": "130a9a01",
   "metadata": {},
   "outputs": [],
   "source": [
    "a = np.ones(3)\n",
    "b = np.ones(3)[:, np.newaxis]"
   ]
  },
  {
   "cell_type": "code",
   "execution_count": 17,
   "id": "fdceb00d",
   "metadata": {},
   "outputs": [
    {
     "data": {
      "text/plain": [
       "array([[2., 2., 2.],\n",
       "       [2., 2., 2.],\n",
       "       [2., 2., 2.]])"
      ]
     },
     "execution_count": 17,
     "metadata": {},
     "output_type": "execute_result"
    }
   ],
   "source": [
    "a + b"
   ]
  },
  {
   "cell_type": "markdown",
   "id": "ba787bbc",
   "metadata": {},
   "source": [
    "Here, we stretched both (a and b) to match a common shape. the geometry of theese examples is visualized in the following picture:"
   ]
  },
  {
   "attachments": {
    "d27fae98-b1f5-4967-b070-6c227e23dd78.png": {
     "image/png": "[encoded data removed]"
    }
   },
   "cell_type": "markdown",
   "id": "c4b9ff68",
   "metadata": {},
   "source": [
    "![image.png](attachment:d27fae98-b1f5-4967-b070-6c227e23dd78.png)"
   ]
  },
  {
   "cell_type": "markdown",
   "id": "ac4cb98d",
   "metadata": {},
   "source": [
    "## Rules of Broadcasting\n",
    "\n",
    "<ul>\n",
    "    <li>Rule 1: If two arrays differ in their number of dimensions, the shape of the one with fewer dimension is padded with ones on its leading (left) side.</li>\n",
    "    <li>Rule 2: If the shape of the two arrays does not match in any dimension, the array with shape equal to 1 in that dimension is streched to match the other shape.</li>\n",
    "    <li>Rule 3: If in any dimension the sizes disagree and neither is equal to 1, an error is raised</li>\n",
    "</ul>\n",
    "\n",
    "### Broadcasting example 1 \n",
    "\n"
   ]
  },
  {
   "cell_type": "code",
   "execution_count": 18,
   "id": "1d3cd2a7",
   "metadata": {},
   "outputs": [],
   "source": [
    "M = np.ones((2, 3))\n",
    "a = np.arange(3)"
   ]
  },
  {
   "cell_type": "markdown",
   "id": "7161320d",
   "metadata": {},
   "source": [
    "Let's consider an operation on these two arrays. The shape of the arrays are\n",
    "\n",
    "<ul>\n",
    "    <li>M.shape = (2, 3)</li>\n",
    "    <li>a.shape = (3,)</li>\n",
    "    \n",
    "</ul>\n",
    "We see by rule 1 that the array a has fewer dimensions, so we pad it on the left with ones:\n",
    "<ul>\n",
    "    <li> M.shape -> (2, 3) </li>\n",
    "    <li>a.shape -> (1, 3)</li>\n",
    "    \n",
    "</ul>    \n",
    "By rule 2, we now see that the first dimension disagrees, so we stretch this dimension to match:\n",
    "\n",
    "<ul>\n",
    "    <li>M.shape -> (2, 3)</li>\n",
    "    <li>a.shape -> (2, 3)</li>\n",
    "    \n",
    "</ul>\n",
    "The shapes match, and we see that the final shape will be (2, 3):"
   ]
  },
  {
   "cell_type": "code",
   "execution_count": 19,
   "id": "72a9377b",
   "metadata": {},
   "outputs": [
    {
     "data": {
      "text/plain": [
       "array([[1., 2., 3.],\n",
       "       [1., 2., 3.]])"
      ]
     },
     "execution_count": 19,
     "metadata": {},
     "output_type": "execute_result"
    }
   ],
   "source": [
    "M + a"
   ]
  },
  {
   "cell_type": "markdown",
   "id": "a0d369f9",
   "metadata": {},
   "source": [
    "### Broadcasting example 2"
   ]
  },
  {
   "cell_type": "code",
   "execution_count": 20,
   "id": "21f5502a",
   "metadata": {},
   "outputs": [],
   "source": [
    "a = np.arange(3).reshape(3,1)\n",
    "b = np.arange(3)"
   ]
  },
  {
   "cell_type": "markdown",
   "id": "5d39706b",
   "metadata": {},
   "source": [
    "Again, we'll start by writing out the shape of the arrays:\n",
    "\n",
    "<ul>\n",
    "    <li>a.shape = (3, 1)</li>\n",
    "    <li>b.shape = (3,)</li>\n",
    "    \n",
    "</ul>\n",
    "Rule 1 says we must pad the shape of b with ones:\n",
    "\n",
    "<ul>\n",
    "    <li>a.shape -> (3, 1)</li>\n",
    "    <li>b.shape -> (1, 3)</li>\n",
    "    \n",
    "</ul>\n",
    "And rule 2 tells us that we upgrade each of these ones to match the corresponding size of the other array:\n",
    "\n",
    "<ul>\n",
    "    <li>a.shape -> (3, 3)</li>\n",
    "    <li>b.shape -> (3, 3)</li>\n",
    "Because the result matches, these shapes are compatible. We can see this here:"
   ]
  },
  {
   "cell_type": "code",
   "execution_count": 21,
   "id": "226a611e",
   "metadata": {},
   "outputs": [
    {
     "data": {
      "text/plain": [
       "array([[0, 1, 2],\n",
       "       [1, 2, 3],\n",
       "       [2, 3, 4]])"
      ]
     },
     "execution_count": 21,
     "metadata": {},
     "output_type": "execute_result"
    }
   ],
   "source": [
    "a + b"
   ]
  },
  {
   "cell_type": "markdown",
   "id": "0ff6dc06",
   "metadata": {},
   "source": [
    "These broadcasting rules work to any binary ```ufunc```. for example"
   ]
  },
  {
   "cell_type": "code",
   "execution_count": 22,
   "id": "58ccdcd3",
   "metadata": {},
   "outputs": [
    {
     "data": {
      "text/plain": [
       "array([[0.69314718, 1.31326169, 2.12692801],\n",
       "       [1.31326169, 1.69314718, 2.31326169],\n",
       "       [2.12692801, 2.31326169, 2.69314718]])"
      ]
     },
     "execution_count": 22,
     "metadata": {},
     "output_type": "execute_result"
    }
   ],
   "source": [
    "np.logaddexp(a,b)"
   ]
  },
  {
   "cell_type": "markdown",
   "id": "4b3a03b1",
   "metadata": {},
   "source": [
    "## Broadcasting in practice\n",
    "\n",
    "## Centering an array"
   ]
  },
  {
   "cell_type": "code",
   "execution_count": 24,
   "id": "c4b122e5",
   "metadata": {},
   "outputs": [],
   "source": [
    "X = np.random.random((10,3))"
   ]
  },
  {
   "cell_type": "code",
   "execution_count": 26,
   "id": "aeffb25e",
   "metadata": {},
   "outputs": [
    {
     "data": {
      "text/plain": [
       "array([0.62996914, 0.53508595, 0.52977688])"
      ]
     },
     "execution_count": 26,
     "metadata": {},
     "output_type": "execute_result"
    }
   ],
   "source": [
    "Xmean = X.mean(0) # Across the columns\n",
    "Xmean"
   ]
  },
  {
   "cell_type": "code",
   "execution_count": 27,
   "id": "f37a89c8",
   "metadata": {},
   "outputs": [],
   "source": [
    "X_centered = X - Xmean"
   ]
  },
  {
   "cell_type": "markdown",
   "id": "531a8a98",
   "metadata": {},
   "source": [
    "To check if we do this right we calculate the mean of X_centered across the first dimension"
   ]
  },
  {
   "cell_type": "code",
   "execution_count": 28,
   "id": "272348bf",
   "metadata": {},
   "outputs": [
    {
     "data": {
      "text/plain": [
       "array([-1.11022302e-17,  4.44089210e-17,  0.00000000e+00])"
      ]
     },
     "execution_count": 28,
     "metadata": {},
     "output_type": "execute_result"
    }
   ],
   "source": [
    "X_centered.mean(0)"
   ]
  },
  {
   "cell_type": "markdown",
   "id": "a69d602b",
   "metadata": {},
   "source": [
    "## Plotting a two dimensional function"
   ]
  },
  {
   "cell_type": "code",
   "execution_count": 29,
   "id": "68c14f04",
   "metadata": {},
   "outputs": [],
   "source": [
    "x = np.linspace(0, 5, 50)\n",
    "y = np.linspace(0, 5, 50)[:, np.newaxis]\n",
    "z = np.sin(x) ** 10 + np.cos(10 + y * x) * np.cos(x)"
   ]
  },
  {
   "cell_type": "code",
   "execution_count": 30,
   "id": "cdf51f86",
   "metadata": {},
   "outputs": [],
   "source": [
    "%matplotlib inline\n",
    "import matplotlib.pyplot as plt"
   ]
  },
  {
   "cell_type": "code",
   "execution_count": 31,
   "id": "e14990cc",
   "metadata": {},
   "outputs": [
    {
     "data": {
      "image/png": "[encoded data removed]",
      "text/plain": [
       "<Figure size 640x480 with 2 Axes>"
      ]
     },
     "metadata": {},
     "output_type": "display_data"
    }
   ],
   "source": [
    "plt.imshow(z, origin='lower', extent=[0, 5, 0, 5],\n",
    "           cmap='viridis')\n",
    "plt.colorbar();"
   ]
  },
  {
   "cell_type": "markdown",
   "id": "ae602420",
   "metadata": {},
   "source": [
    "# Comparisons, Masks, and Boolean Logic\n",
    "\n",
    "## Comparison operators as ufuncs\n",
    "\n",
    "NumPy implements comparison operators such as ```<``` and ```>``` . The result of these comparison operators is always an array with Boolean data type. All six of the standard comparison operations are available:\n",
    "\n",
    "<ul>\n",
    "    <li>  ``` < ```  </li>\n",
    "    <li>  ```>```  </li>\n",
    "    <li>  ```<=``` </li>\n",
    "    <li>  ```>=``` </li>\n",
    "    <li>  ```!=``` </li>\n",
    "    <li>  ```==``` </li>\n",
    "</ul>\n",
    "\n",
    "It is also possible to do an element-wise comparison of two arrays, and to include compound expressions:"
   ]
  },
  {
   "cell_type": "code",
   "execution_count": 3,
   "id": "71ec69bc",
   "metadata": {},
   "outputs": [
    {
     "data": {
      "text/plain": [
       "array([False, False,  True, False,  True])"
      ]
     },
     "execution_count": 3,
     "metadata": {},
     "output_type": "execute_result"
    }
   ],
   "source": [
    "x = np.arange(5)\n",
    "2 ** x == x ** 2"
   ]
  },
  {
   "cell_type": "markdown",
   "id": "af8d1e6d",
   "metadata": {},
   "source": [
    "## Working with Boolean arrays \n",
    "\n",
    "### Countin entries"
   ]
  },
  {
   "cell_type": "code",
   "execution_count": null,
   "id": "7facd53e",
   "metadata": {},
   "outputs": [],
   "source": []
  },
  {
   "cell_type": "markdown",
   "id": "0a77aa9c",
   "metadata": {},
   "source": [
    "## Create a copy of an array"
   ]
  },
  {
   "cell_type": "code",
   "execution_count": 1,
   "id": "c53fbcc1",
   "metadata": {},
   "outputs": [],
   "source": [
    "import numpy as np"
   ]
  },
  {
   "cell_type": "code",
   "execution_count": null,
   "id": "c3d5e621",
   "metadata": {},
   "outputs": [],
   "source": [
    "C2 = C[:1,:1].cooy()"
   ]
  },
  {
   "cell_type": "code",
   "execution_count": null,
   "id": "22d95c5e",
   "metadata": {},
   "outputs": [],
   "source": [
    "C2[0,0] = 99\n",
    "C"
   ]
  },
  {
   "cell_type": "markdown",
   "id": "c316fcf2",
   "metadata": {},
   "source": [
    "We can see that C is not touched"
   ]
  },
  {
   "cell_type": "markdown",
   "id": "b5716fe4",
   "metadata": {},
   "source": [
    "# Reshaping of arrays"
   ]
  },
  {
   "cell_type": "markdown",
   "id": "80b2c599",
   "metadata": {},
   "source": [
    "Theres two method for reshaping an array\n",
    "\n",
    "> The reshape method"
   ]
  },
  {
   "cell_type": "code",
   "execution_count": 3,
   "id": "605c41e8",
   "metadata": {},
   "outputs": [
    {
     "data": {
      "text/plain": [
       "array([[1, 2, 3],\n",
       "       [4, 5, 6],\n",
       "       [7, 8, 9]])"
      ]
     },
     "execution_count": 3,
     "metadata": {},
     "output_type": "execute_result"
    }
   ],
   "source": [
    "grid = np.arange(1,10).reshape((3,3))\n",
    "grid"
   ]
  },
  {
   "cell_type": "markdown",
   "id": "448cf8b6",
   "metadata": {},
   "source": [
    "> Another form is using the newaxis method"
   ]
  },
  {
   "cell_type": "code",
   "execution_count": 4,
   "id": "03771f69",
   "metadata": {},
   "outputs": [],
   "source": [
    "x = np.array([1, 2, 3])"
   ]
  },
  {
   "cell_type": "code",
   "execution_count": 8,
   "id": "38303952",
   "metadata": {},
   "outputs": [
    {
     "data": {
      "text/plain": [
       "array([[1],\n",
       "       [2],\n",
       "       [3]])"
      ]
     },
     "execution_count": 9,
     "metadata": {},
     "output_type": "execute_result"
    }
   ],
   "source": [
    "# reshaping into a column vector\n",
    "x[:, np.newaxis]"
   ]
  },
  {
   "cell_type": "markdown",
   "id": "e5f74d89",
   "metadata": {},
   "source": [
    "# Array concatenation and splitting\n",
    "\n",
    "It's possible to combine multiple arrays into one\n",
    "\n",
    "## Concatenation of arrays\n",
    "\n",
    "We can join two arrays using the following routines\n",
    "\n",
    "<ul>\n",
    "    <li>np.concatenate</li>\n",
    "    <li>np.vstack </li>\n",
    "    <li>np.hstack </li>\n",
    "</ul>\n",
    "\n",
    "### ```np.concatenate ```"
   ]
  },
  {
   "cell_type": "code",
   "execution_count": 11,
   "id": "78ac8e5c",
   "metadata": {},
   "outputs": [
    {
     "data": {
      "text/plain": [
       "array([1, 2, 3, 4, 5, 6])"
      ]
     },
     "execution_count": 11,
     "metadata": {},
     "output_type": "execute_result"
    }
   ],
   "source": [
    "x = np.array([1, 2 ,3 ])\n",
    "y = np.array([4, 5, 6])\n",
    "np.concatenate([x,y])"
   ]
  },
  {
   "cell_type": "markdown",
   "id": "ea8d72f9",
   "metadata": {},
   "source": [
    "Also, we can concatenate more than two arrays"
   ]
  },
  {
   "cell_type": "code",
   "execution_count": 12,
   "id": "6bc8d7ff",
   "metadata": {},
   "outputs": [
    {
     "data": {
      "text/plain": [
       "array([1, 2, 3, 4, 5, 6, 0, 0, 0])"
      ]
     },
     "execution_count": 12,
     "metadata": {},
     "output_type": "execute_result"
    }
   ],
   "source": [
    "z = np.array([0, 0, 0])\n",
    "np.concatenate([x, y, z])"
   ]
  },
  {
   "cell_type": "markdown",
   "id": "d4b1b771",
   "metadata": {},
   "source": [
    "We can also use it for two dimensional arrays"
   ]
  },
  {
   "cell_type": "code",
   "execution_count": 14,
   "id": "efefdc5a",
   "metadata": {},
   "outputs": [
    {
     "data": {
      "text/plain": [
       "array([[1, 2, 3],\n",
       "       [4, 5, 6],\n",
       "       [1, 2, 3],\n",
       "       [4, 5, 6]])"
      ]
     },
     "execution_count": 14,
     "metadata": {},
     "output_type": "execute_result"
    }
   ],
   "source": [
    "u = np.array([[1, 2, 3], [4, 5, 6]])\n",
    "np.concatenate([u, u])"
   ]
  },
  {
   "cell_type": "markdown",
   "id": "fca15541",
   "metadata": {},
   "source": [
    "Concatenation along the second axis"
   ]
  },
  {
   "cell_type": "code",
   "execution_count": 15,
   "id": "cd4138d2",
   "metadata": {},
   "outputs": [
    {
     "data": {
      "text/plain": [
       "array([[1, 2, 3, 1, 2, 3],\n",
       "       [4, 5, 6, 4, 5, 6]])"
      ]
     },
     "execution_count": 15,
     "metadata": {},
     "output_type": "execute_result"
    }
   ],
   "source": [
    "np.concatenate([u, u], axis = 1)"
   ]
  },
  {
   "cell_type": "markdown",
   "id": "cac0e2b7",
   "metadata": {},
   "source": [
    "### ``` np.vstack``` and ``` np.hstack```"
   ]
  },
  {
   "cell_type": "code",
   "execution_count": 16,
   "id": "0dbbd7c1",
   "metadata": {},
   "outputs": [
    {
     "data": {
      "text/plain": [
       "array([[1, 2, 3],\n",
       "       [1, 2, 3],\n",
       "       [4, 5, 6]])"
      ]
     },
     "execution_count": 16,
     "metadata": {},
     "output_type": "execute_result"
    }
   ],
   "source": [
    "#vertical stacking\n",
    "np.vstack([x,u])"
   ]
  },
  {
   "cell_type": "code",
   "execution_count": 20,
   "id": "a4d57c4b",
   "metadata": {},
   "outputs": [
    {
     "data": {
      "text/plain": [
       "array([[1, 1, 2, 3],\n",
       "       [1, 4, 5, 6]])"
      ]
     },
     "execution_count": 20,
     "metadata": {},
     "output_type": "execute_result"
    }
   ],
   "source": [
    "#horizontally stacking\n",
    "np.hstack([np.array([[1],[1]]),u])"
   ]
  },
  {
   "cell_type": "markdown",
   "id": "85c174bb",
   "metadata": {},
   "source": [
    "Similarly ```np.dstack``` will stack along the third axis\n",
    "\n",
    "## Splitting of arrays\n",
    "\n",
    "Also, we can split the arrays implementing the functions\n",
    "<ul>\n",
    "    <li>np.split</li>\n",
    "    <li>np.hsplit</li>\n",
    "    <li>np.vsplit</li>\n",
    "</ul>"
   ]
  },
  {
   "cell_type": "code",
   "execution_count": 24,
   "id": "6766f48b",
   "metadata": {},
   "outputs": [
    {
     "name": "stdout",
     "output_type": "stream",
     "text": [
      "[1 2 3] [99 99] [3 2 1]\n"
     ]
    }
   ],
   "source": [
    "ary = [1, 2, 3, 99, 99, 3, 2, 1]\n",
    "indices_or_sections = [3,5]\n",
    "x1, x2, x3 = np.split(ary, indices_or_sections, axis=0)\n",
    "print (x1, x2, x3)"
   ]
  },
  {
   "cell_type": "markdown",
   "id": "1f1cd23e",
   "metadata": {},
   "source": [
    "The related functions ```np.hsplit``` and ```np.vsplit``` are similar"
   ]
  },
  {
   "cell_type": "code",
   "execution_count": 26,
   "id": "af53390f",
   "metadata": {},
   "outputs": [
    {
     "data": {
      "text/plain": [
       "array([[0, 1, 2, 3],\n",
       "       [4, 5, 6, 7]])"
      ]
     },
     "execution_count": 26,
     "metadata": {},
     "output_type": "execute_result"
    }
   ],
   "source": [
    "grid = np.arange(8).reshape(2,4)\n",
    "grid"
   ]
  },
  {
   "cell_type": "code",
   "execution_count": 28,
   "id": "9b5426d9",
   "metadata": {},
   "outputs": [
    {
     "name": "stdout",
     "output_type": "stream",
     "text": [
      "[[0 1 2 3]]\n",
      "[[4 5 6 7]]\n"
     ]
    }
   ],
   "source": [
    "upper , lower = np.vsplit(grid, [1])\n",
    "print(upper)\n",
    "print(lower)"
   ]
  },
  {
   "cell_type": "code",
   "execution_count": 29,
   "id": "73cc6dd0",
   "metadata": {},
   "outputs": [
    {
     "name": "stdout",
     "output_type": "stream",
     "text": [
      "[[0 1]\n",
      " [4 5]]\n",
      "[[2 3]\n",
      " [6 7]]\n"
     ]
    }
   ],
   "source": [
    "left, right = np.hsplit(grid, [2])\n",
    "print (left)\n",
    "print (right)"
   ]
  },
  {
   "cell_type": "markdown",
   "id": "80757ddb",
   "metadata": {},
   "source": [
    "Similarly, ```np.dsplit``` will split along the third axis"
   ]
  },
  {
   "cell_type": "code",
   "execution_count": 30,
   "id": "b6676c0e",
   "metadata": {},
   "outputs": [],
   "source": [
    "#Computation on NumPy Arrays: Universal Functions\n"
   ]
  },
  {
   "cell_type": "markdown",
   "id": "c675cd97",
   "metadata": {},
   "source": [
    "# Universal Functions\n",
    "\n",
    "The key to make Numpy useful is to use vectorized operations, generally implemented through Numpy's Universal Functions (ufuncs). This section show how to do calculations on arrays elements much more efficient. \n",
    "\n",
    "## \n",
    "\n",
    "***"
   ]
  },
  {
   "cell_type": "markdown",
   "id": "098abe28",
   "metadata": {},
   "source": [
    "## Exponents and logarithms"
   ]
  },
  {
   "cell_type": "code",
   "execution_count": 3,
   "id": "e88cb1bf",
   "metadata": {},
   "outputs": [
    {
     "data": {
      "text/plain": [
       "array([ 3,  9, 27], dtype=int32)"
      ]
     },
     "execution_count": 3,
     "metadata": {},
     "output_type": "execute_result"
    }
   ],
   "source": [
    "x = np.array([1, 2, 3])\n",
    "np.power(3, x)"
   ]
  },
  {
   "cell_type": "code",
   "execution_count": 4,
   "id": "dc1b3eda",
   "metadata": {},
   "outputs": [
    {
     "data": {
      "text/plain": [
       "array([ 2.71828183,  7.3890561 , 20.08553692])"
      ]
     },
     "execution_count": 4,
     "metadata": {},
     "output_type": "execute_result"
    }
   ],
   "source": [
    "np.exp(x)"
   ]
  },
  {
   "cell_type": "code",
   "execution_count": 5,
   "id": "33d059ca",
   "metadata": {},
   "outputs": [
    {
     "data": {
      "text/plain": [
       "array([0.        , 0.69314718, 1.09861229])"
      ]
     },
     "execution_count": 5,
     "metadata": {},
     "output_type": "execute_result"
    }
   ],
   "source": [
    "np.log(x) # e base"
   ]
  },
  {
   "cell_type": "code",
   "execution_count": 6,
   "id": "7fe9b8a5",
   "metadata": {},
   "outputs": [
    {
     "data": {
      "text/plain": [
       "array([0.       , 1.       , 1.5849625])"
      ]
     },
     "execution_count": 6,
     "metadata": {},
     "output_type": "execute_result"
    }
   ],
   "source": [
    "np.log2(x) # 2 base"
   ]
  },
  {
   "cell_type": "code",
   "execution_count": 7,
   "id": "d07925b9",
   "metadata": {},
   "outputs": [
    {
     "data": {
      "text/plain": [
       "array([0.        , 0.30103   , 0.47712125])"
      ]
     },
     "execution_count": 7,
     "metadata": {},
     "output_type": "execute_result"
    }
   ],
   "source": [
    "np.log10(x) # 10 base"
   ]
  },
  {
   "cell_type": "markdown",
   "id": "38530901",
   "metadata": {},
   "source": [
    "For very small input there are some specialized versions that are useful for mantaining precision with very small input"
   ]
  },
  {
   "cell_type": "code",
   "execution_count": 8,
   "id": "fc2c9aa4",
   "metadata": {},
   "outputs": [],
   "source": [
    "y = np.array([0, 0.001, 0.01, 0.1])"
   ]
  },
  {
   "cell_type": "code",
   "execution_count": 9,
   "id": "cc3521f9",
   "metadata": {},
   "outputs": [
    {
     "data": {
      "text/plain": [
       "array([ 1.71828183,  6.3890561 , 19.08553692])"
      ]
     },
     "execution_count": 9,
     "metadata": {},
     "output_type": "execute_result"
    }
   ],
   "source": [
    "np.expm1(x) # exp(x) - 1"
   ]
  },
  {
   "cell_type": "code",
   "execution_count": 10,
   "id": "8b69fd41",
   "metadata": {},
   "outputs": [
    {
     "data": {
      "text/plain": [
       "array([0.69314718, 1.09861229, 1.38629436])"
      ]
     },
     "execution_count": 10,
     "metadata": {},
     "output_type": "execute_result"
    }
   ],
   "source": [
    "np.log1p(x) #log(x+1)"
   ]
  },
  {
   "cell_type": "markdown",
   "id": "f35156d1",
   "metadata": {},
   "source": [
    "## Specialized ufuncs\n",
    "\n",
    "There is a submodule ```scipy.special``` that contains obscure ufuncs"
   ]
  },
  {
   "cell_type": "code",
   "execution_count": 11,
   "id": "06110e5d",
   "metadata": {},
   "outputs": [
    {
     "ename": "<class 'ModuleNotFoundError'>",
     "evalue": "The module 'scipy' is included in the Pyodide distribution, but it is not installed.\nYou can install it by calling:\n  await micropip.install(\"scipy\") in Python, or\n  await pyodide.loadPackage(\"scipy\") in JavaScript\nSee https://pyodide.org/en/stable/usage/loading-packages.html for more details.",
     "output_type": "error",
     "traceback": [
      "\u001b[0;31m---------------------------------------------------------------------------\u001b[0m",
      "\u001b[0;31mModuleNotFoundError\u001b[0m                       Traceback (most recent call last)",
      "Cell \u001b[0;32mIn[11], line 1\u001b[0m\n\u001b[0;32m----> 1\u001b[0m \u001b[38;5;28;01mfrom\u001b[39;00m \u001b[38;5;21;01mscipy\u001b[39;00m \u001b[38;5;28;01mimport\u001b[39;00m special\n",
      "\u001b[0;31mModuleNotFoundError\u001b[0m: The module 'scipy' is included in the Pyodide distribution, but it is not installed.\nYou can install it by calling:\n  await micropip.install(\"scipy\") in Python, or\n  await pyodide.loadPackage(\"scipy\") in JavaScript\nSee https://pyodide.org/en/stable/usage/loading-packages.html for more details."
     ]
    }
   ],
   "source": [
    "from scipy import special"
   ]
  },
  {
   "cell_type": "code",
   "execution_count": 12,
   "id": "e07511dd",
   "metadata": {},
   "outputs": [
    {
     "ename": "<class 'NameError'>",
     "evalue": "name 'special' is not defined",
     "output_type": "error",
     "traceback": [
      "\u001b[0;31m---------------------------------------------------------------------------\u001b[0m",
      "\u001b[0;31mNameError\u001b[0m                                 Traceback (most recent call last)",
      "Cell \u001b[0;32mIn[12], line 1\u001b[0m\n\u001b[0;32m----> 1\u001b[0m \u001b[43mspecial\u001b[49m\u001b[38;5;241m.\u001b[39mgamma(x) \u001b[38;5;66;03m# gamma function\u001b[39;00m\n",
      "\u001b[0;31mNameError\u001b[0m: name 'special' is not defined"
     ]
    }
   ],
   "source": [
    "special.gamma(x) # gamma function"
   ]
  },
  {
   "cell_type": "code",
   "execution_count": null,
   "id": "dc013706",
   "metadata": {},
   "outputs": [],
   "source": [
    "special.gammaln(x) # ln|gamma(x)|"
   ]
  },
  {
   "cell_type": "code",
   "execution_count": null,
   "id": "056dee15",
   "metadata": {},
   "outputs": [],
   "source": [
    "special.beta(x,2)"
   ]
  },
  {
   "cell_type": "code",
   "execution_count": null,
   "id": "19c7ce52",
   "metadata": {},
   "outputs": [],
   "source": [
    "special.erf(x) #error function"
   ]
  },
  {
   "cell_type": "code",
   "execution_count": null,
   "id": "2bdc3e12",
   "metadata": {},
   "outputs": [],
   "source": [
    "special.erfinv(x) #complement to error function"
   ]
  },
  {
   "cell_type": "code",
   "execution_count": null,
   "id": "7a50606f",
   "metadata": {},
   "outputs": [],
   "source": [
    "special.erfc(x) # error function complement"
   ]
  },
  {
   "cell_type": "markdown",
   "id": "0e7160b5",
   "metadata": {},
   "source": [
    "# Advanced Ufunc Features\n",
    "\n",
    "## Specifying output\n",
    "\n",
    "For large calculations, it's useful to specify the array where the result of the calculation will be stored. This can be done using the ```out``` argument of the function\n",
    "\n",
    "> example"
   ]
  },
  {
   "cell_type": "code",
   "execution_count": 13,
   "id": "afe90823",
   "metadata": {},
   "outputs": [
    {
     "data": {
      "text/plain": [
       "array([ 0., 10., 20., 30., 40.])"
      ]
     },
     "execution_count": 13,
     "metadata": {},
     "output_type": "execute_result"
    }
   ],
   "source": [
    "x = np.arange(5)\n",
    "y = np.empty(5)\n",
    "np.multiply(x, 10, out = y)\n",
    "y"
   ]
  },
  {
   "cell_type": "markdown",
   "id": "4845aeef",
   "metadata": {},
   "source": [
    "Also, we can choose the elements in witch we want to write the results"
   ]
  },
  {
   "cell_type": "code",
   "execution_count": 16,
   "id": "04c3773f",
   "metadata": {},
   "outputs": [
    {
     "data": {
      "text/plain": [
       "array([1.00000000e+000, 3.01291842e-295, 2.00000000e+000, 2.27984142e-316,\n",
       "       4.00000000e+000, 0.00000000e+000, 8.00000000e+000, 0.00000000e+000,\n",
       "       1.60000000e+001, 0.00000000e+000])"
      ]
     },
     "execution_count": 16,
     "metadata": {},
     "output_type": "execute_result"
    }
   ],
   "source": [
    "z = np.empty(10)\n",
    "np.power(2, x, out = z[::2]) \n",
    "z"
   ]
  },
  {
   "cell_type": "markdown",
   "id": "1361dd63",
   "metadata": {},
   "source": [
    "## Aggregates\n",
    "\n",
    "If we'd like to reduce an array we can use the ```reduce``` method of any ufunc.\n",
    "\n",
    "> examples"
   ]
  },
  {
   "cell_type": "code",
   "execution_count": 18,
   "id": "65414ab5",
   "metadata": {},
   "outputs": [
    {
     "data": {
      "text/plain": [
       "15"
      ]
     },
     "execution_count": 18,
     "metadata": {},
     "output_type": "execute_result"
    }
   ],
   "source": [
    "x = np.arange(1,6)\n",
    "np.add.reduce(x)"
   ]
  },
  {
   "cell_type": "code",
   "execution_count": 19,
   "id": "07941af2",
   "metadata": {},
   "outputs": [
    {
     "data": {
      "text/plain": [
       "120"
      ]
     },
     "execution_count": 19,
     "metadata": {},
     "output_type": "execute_result"
    }
   ],
   "source": [
    "np.multiply.reduce(x)"
   ]
  },
  {
   "cell_type": "markdown",
   "id": "71bc544f",
   "metadata": {},
   "source": [
    "If we'd like to store the partial results of the computation we can use the ```accumulate``` method"
   ]
  },
  {
   "cell_type": "code",
   "execution_count": 20,
   "id": "774b0e56",
   "metadata": {},
   "outputs": [
    {
     "data": {
      "text/plain": [
       "array([ 1,  3,  6, 10, 15])"
      ]
     },
     "execution_count": 20,
     "metadata": {},
     "output_type": "execute_result"
    }
   ],
   "source": [
    "np.add.accumulate(x)"
   ]
  },
  {
   "cell_type": "code",
   "execution_count": 21,
   "id": "7287602a",
   "metadata": {},
   "outputs": [
    {
     "data": {
      "text/plain": [
       "array([  1,   2,   6,  24, 120])"
      ]
     },
     "execution_count": 21,
     "metadata": {},
     "output_type": "execute_result"
    }
   ],
   "source": [
    "np.multiply.accumulate(x)"
   ]
  },
  {
   "cell_type": "markdown",
   "id": "9451286c",
   "metadata": {},
   "source": [
    "## Outer products\n",
    "\n",
    "With the function ```outer``` we can compute the output of all pairs of two different inputs"
   ]
  },
  {
   "cell_type": "code",
   "execution_count": 3,
   "id": "cf0723bd",
   "metadata": {},
   "outputs": [],
   "source": [
    "x = np.arange(1,6)"
   ]
  },
  {
   "cell_type": "code",
   "execution_count": 4,
   "id": "90d3ebe1",
   "metadata": {},
   "outputs": [
    {
     "data": {
      "text/plain": [
       "array([[ 1,  2,  3,  4,  5],\n",
       "       [ 2,  4,  6,  8, 10],\n",
       "       [ 3,  6,  9, 12, 15],\n",
       "       [ 4,  8, 12, 16, 20],\n",
       "       [ 5, 10, 15, 20, 25]])"
      ]
     },
     "execution_count": 4,
     "metadata": {},
     "output_type": "execute_result"
    }
   ],
   "source": [
    "np.multiply.outer(x,x)"
   ]
  },
  {
   "cell_type": "markdown",
   "id": "95b98d18",
   "metadata": {},
   "source": [
    "For more information, we can search in the NumPy and SciPy documentation websides"
   ]
  },
  {
   "cell_type": "markdown",
   "id": "af2ecdc7",
   "metadata": {},
   "source": [
    "# Aggregations: Min,Max, and Everything in between\n",
    "\n",
    "## Summing the values in an array\n",
    "\n",
    "The sum of all values in an array NumPy can do this using the ```np.sum()``` function:"
   ]
  },
  {
   "cell_type": "code",
   "execution_count": 2,
   "id": "f8850b21",
   "metadata": {},
   "outputs": [
    {
     "data": {
      "text/plain": [
       "55.88927153609119"
      ]
     },
     "execution_count": 2,
     "metadata": {},
     "output_type": "execute_result"
    }
   ],
   "source": [
    "A = np.random.random(100)\n",
    "np.sum(A)"
   ]
  },
  {
   "cell_type": "markdown",
   "id": "6e18cecf",
   "metadata": {},
   "source": [
    "## Minimum and Maximum\n",
    "\n",
    "Similarly as Python, NumPy has it's own min and max functions"
   ]
  },
  {
   "cell_type": "code",
   "execution_count": 3,
   "id": "b8852868",
   "metadata": {},
   "outputs": [],
   "source": [
    "big = np.random.random(10000)"
   ]
  },
  {
   "cell_type": "code",
   "execution_count": 4,
   "id": "afeb06df",
   "metadata": {},
   "outputs": [
    {
     "data": {
      "text/plain": [
       "6.424764837842378e-05"
      ]
     },
     "execution_count": 4,
     "metadata": {},
     "output_type": "execute_result"
    }
   ],
   "source": [
    "np.min(big)"
   ]
  },
  {
   "cell_type": "code",
   "execution_count": 5,
   "id": "3aa7cbcf",
   "metadata": {},
   "outputs": [
    {
     "data": {
      "text/plain": [
       "0.9999403258345905"
      ]
     },
     "execution_count": 5,
     "metadata": {},
     "output_type": "execute_result"
    }
   ],
   "source": [
    "np.max(big)"
   ]
  },
  {
   "cell_type": "markdown",
   "id": "a8933bf1",
   "metadata": {},
   "source": [
    "For ```min``` , ```max``` and ```sum``` NumPy has a shorter syntax:"
   ]
  },
  {
   "cell_type": "code",
   "execution_count": 6,
   "id": "ad1416f8",
   "metadata": {},
   "outputs": [
    {
     "data": {
      "text/plain": [
       "6.424764837842378e-05"
      ]
     },
     "execution_count": 6,
     "metadata": {},
     "output_type": "execute_result"
    }
   ],
   "source": [
    "big.min()"
   ]
  },
  {
   "cell_type": "markdown",
   "id": "0942d20c",
   "metadata": {},
   "source": [
    "### Multi Dimensional aggregates\n",
    "\n",
    "One common operation is to agregate along a row or column. By default ```np.sum``` will return the sum over the entire array, but, there's an aditional argument along witch we can especify the axis in witch we wanna aggregate"
   ]
  },
  {
   "cell_type": "code",
   "execution_count": 7,
   "id": "a1f16a94",
   "metadata": {},
   "outputs": [],
   "source": [
    "B = np.random.random((3,4))"
   ]
  },
  {
   "cell_type": "code",
   "execution_count": 10,
   "id": "6409f602",
   "metadata": {},
   "outputs": [
    {
     "data": {
      "text/plain": [
       "array([1.25901439, 1.12365384, 1.41568808, 1.74145484])"
      ]
     },
     "execution_count": 10,
     "metadata": {},
     "output_type": "execute_result"
    }
   ],
   "source": [
    "B.sum(axis = 0) # Sum by column"
   ]
  },
  {
   "cell_type": "markdown",
   "id": "536a0d00",
   "metadata": {},
   "source": [
    "# Computation on Arrays: Broadcasting\n",
    "\n",
    "As the universal function, NumPy's broadcasting functionality use vectorize operations\n",
    "\n",
    "## Introducing Broadcasting\n",
    "\n",
    "For arrays of the same size, binary operations are performed on an element-byelement basis:"
   ]
  },
  {
   "cell_type": "code",
   "execution_count": 11,
   "id": "89e5dd19",
   "metadata": {},
   "outputs": [
    {
     "data": {
      "text/plain": [
       "array([4, 6, 8])"
      ]
     },
     "execution_count": 11,
     "metadata": {},
     "output_type": "execute_result"
    }
   ],
   "source": [
    "a = np.array([0, 1, 2])\n",
    "b = np.array([4, 5, 6])\n",
    "a + b"
   ]
  },
  {
   "cell_type": "markdown",
   "id": "cae80d85",
   "metadata": {},
   "source": [
    "Broadcasting allow to do theese types of binary operation between arrays of different size. F.E.:"
   ]
  },
  {
   "cell_type": "code",
   "execution_count": 12,
   "id": "8fdb96e9",
   "metadata": {},
   "outputs": [
    {
     "data": {
      "text/plain": [
       "array([5, 6, 7])"
      ]
     },
     "execution_count": 12,
     "metadata": {},
     "output_type": "execute_result"
    }
   ],
   "source": [
    "a + 5"
   ]
  },
  {
   "cell_type": "markdown",
   "id": "b858e96a",
   "metadata": {},
   "source": [
    "We can extend this to arrays of higher dimension. "
   ]
  },
  {
   "cell_type": "code",
   "execution_count": 13,
   "id": "5eee51f0",
   "metadata": {},
   "outputs": [],
   "source": [
    "C = np.ones((3,3))"
   ]
  },
  {
   "cell_type": "code",
   "execution_count": 15,
   "id": "4f05bc6a",
   "metadata": {},
   "outputs": [
    {
     "data": {
      "text/plain": [
       "array([[1., 2., 3.],\n",
       "       [1., 2., 3.],\n",
       "       [1., 2., 3.]])"
      ]
     },
     "execution_count": 15,
     "metadata": {},
     "output_type": "execute_result"
    }
   ],
   "source": [
    "C + a"
   ]
  },
  {
   "cell_type": "markdown",
   "id": "9387746a",
   "metadata": {},
   "source": [
    "Here, a is streched, or broadcast along the second dimension in order to match the shape of ```C```. \n",
    "\n",
    "Another example:"
   ]
  },
  {
   "cell_type": "code",
   "execution_count": 16,
   "id": "8e2946e8",
   "metadata": {},
   "outputs": [],
   "source": [
    "a = np.ones(3)\n",
    "b = np.ones(3)[:, np.newaxis]"
   ]
  },
  {
   "cell_type": "code",
   "execution_count": 17,
   "id": "e91f4d43",
   "metadata": {},
   "outputs": [
    {
     "data": {
      "text/plain": [
       "array([[2., 2., 2.],\n",
       "       [2., 2., 2.],\n",
       "       [2., 2., 2.]])"
      ]
     },
     "execution_count": 17,
     "metadata": {},
     "output_type": "execute_result"
    }
   ],
   "source": [
    "a + b"
   ]
  },
  {
   "cell_type": "markdown",
   "id": "4cd01402",
   "metadata": {},
   "source": [
    "Here, we stretched both (a and b) to match a common shape. the geometry of theese examples is visualized in the following picture:"
   ]
  },
  {
   "attachments": {
    "d27fae98-b1f5-4967-b070-6c227e23dd78.png": {
     "image/png": "[encoded data removed]"
    }
   },
   "cell_type": "markdown",
   "id": "2fec0faf",
   "metadata": {},
   "source": [
    "![image.png](attachment:d27fae98-b1f5-4967-b070-6c227e23dd78.png)"
   ]
  },
  {
   "cell_type": "markdown",
   "id": "68b8b4a1",
   "metadata": {},
   "source": [
    "## Rules of Broadcasting\n",
    "\n",
    "<ul>\n",
    "    <li>Rule 1: If two arrays differ in their number of dimensions, the shape of the one with fewer dimension is padded with ones on its leading (left) side.</li>\n",
    "    <li>Rule 2: If the shape of the two arrays does not match in any dimension, the array with shape equal to 1 in that dimension is streched to match the other shape.</li>\n",
    "    <li>Rule 3: If in any dimension the sizes disagree and neither is equal to 1, an error is raised</li>\n",
    "</ul>\n",
    "\n",
    "### Broadcasting example 1 \n",
    "\n"
   ]
  },
  {
   "cell_type": "code",
   "execution_count": 18,
   "id": "741b1177",
   "metadata": {},
   "outputs": [],
   "source": [
    "M = np.ones((2, 3))\n",
    "a = np.arange(3)"
   ]
  },
  {
   "cell_type": "markdown",
   "id": "e0c8161b",
   "metadata": {},
   "source": [
    "Let's consider an operation on these two arrays. The shape of the arrays are\n",
    "\n",
    "<ul>\n",
    "    <li>M.shape = (2, 3)</li>\n",
    "    <li>a.shape = (3,)</li>\n",
    "    \n",
    "</ul>\n",
    "We see by rule 1 that the array a has fewer dimensions, so we pad it on the left with ones:\n",
    "<ul>\n",
    "    <li> M.shape -> (2, 3) </li>\n",
    "    <li>a.shape -> (1, 3)</li>\n",
    "    \n",
    "</ul>    \n",
    "By rule 2, we now see that the first dimension disagrees, so we stretch this dimension to match:\n",
    "\n",
    "<ul>\n",
    "    <li>M.shape -> (2, 3)</li>\n",
    "    <li>a.shape -> (2, 3)</li>\n",
    "    \n",
    "</ul>\n",
    "The shapes match, and we see that the final shape will be (2, 3):"
   ]
  },
  {
   "cell_type": "code",
   "execution_count": 19,
   "id": "dddf4d1a",
   "metadata": {},
   "outputs": [
    {
     "data": {
      "text/plain": [
       "array([[1., 2., 3.],\n",
       "       [1., 2., 3.]])"
      ]
     },
     "execution_count": 19,
     "metadata": {},
     "output_type": "execute_result"
    }
   ],
   "source": [
    "M + a"
   ]
  },
  {
   "cell_type": "markdown",
   "id": "2263dd60",
   "metadata": {},
   "source": [
    "### Broadcasting example 2"
   ]
  },
  {
   "cell_type": "code",
   "execution_count": 20,
   "id": "41ccb04f",
   "metadata": {},
   "outputs": [],
   "source": [
    "a = np.arange(3).reshape(3,1)\n",
    "b = np.arange(3)"
   ]
  },
  {
   "cell_type": "markdown",
   "id": "1ae79fb9",
   "metadata": {},
   "source": [
    "Again, we'll start by writing out the shape of the arrays:\n",
    "\n",
    "<ul>\n",
    "    <li>a.shape = (3, 1)</li>\n",
    "    <li>b.shape = (3,)</li>\n",
    "    \n",
    "</ul>\n",
    "Rule 1 says we must pad the shape of b with ones:\n",
    "\n",
    "<ul>\n",
    "    <li>a.shape -> (3, 1)</li>\n",
    "    <li>b.shape -> (1, 3)</li>\n",
    "    \n",
    "</ul>\n",
    "And rule 2 tells us that we upgrade each of these ones to match the corresponding size of the other array:\n",
    "\n",
    "<ul>\n",
    "    <li>a.shape -> (3, 3)</li>\n",
    "    <li>b.shape -> (3, 3)</li>\n",
    "Because the result matches, these shapes are compatible. We can see this here:"
   ]
  },
  {
   "cell_type": "code",
   "execution_count": 21,
   "id": "83d5a31e",
   "metadata": {},
   "outputs": [
    {
     "data": {
      "text/plain": [
       "array([[0, 1, 2],\n",
       "       [1, 2, 3],\n",
       "       [2, 3, 4]])"
      ]
     },
     "execution_count": 21,
     "metadata": {},
     "output_type": "execute_result"
    }
   ],
   "source": [
    "a + b"
   ]
  },
  {
   "cell_type": "markdown",
   "id": "ca1f7984",
   "metadata": {},
   "source": [
    "These broadcasting rules work to any binary ```ufunc```. for example"
   ]
  },
  {
   "cell_type": "code",
   "execution_count": 22,
   "id": "a2dc51f6",
   "metadata": {},
   "outputs": [
    {
     "data": {
      "text/plain": [
       "array([[0.69314718, 1.31326169, 2.12692801],\n",
       "       [1.31326169, 1.69314718, 2.31326169],\n",
       "       [2.12692801, 2.31326169, 2.69314718]])"
      ]
     },
     "execution_count": 22,
     "metadata": {},
     "output_type": "execute_result"
    }
   ],
   "source": [
    "np.logaddexp(a,b)"
   ]
  },
  {
   "cell_type": "markdown",
   "id": "86aa315d",
   "metadata": {},
   "source": [
    "## Broadcasting in practice\n",
    "\n",
    "## Centering an array"
   ]
  },
  {
   "cell_type": "code",
   "execution_count": 24,
   "id": "725390f0",
   "metadata": {},
   "outputs": [],
   "source": [
    "X = np.random.random((10,3))"
   ]
  },
  {
   "cell_type": "code",
   "execution_count": 26,
   "id": "274b45be",
   "metadata": {},
   "outputs": [
    {
     "data": {
      "text/plain": [
       "array([0.62996914, 0.53508595, 0.52977688])"
      ]
     },
     "execution_count": 26,
     "metadata": {},
     "output_type": "execute_result"
    }
   ],
   "source": [
    "Xmean = X.mean(0) # Across the columns\n",
    "Xmean"
   ]
  },
  {
   "cell_type": "code",
   "execution_count": 27,
   "id": "0babdcf5",
   "metadata": {},
   "outputs": [],
   "source": [
    "X_centered = X - Xmean"
   ]
  },
  {
   "cell_type": "markdown",
   "id": "12df615b",
   "metadata": {},
   "source": [
    "To check if we do this right we calculate the mean of X_centered across the first dimension"
   ]
  },
  {
   "cell_type": "code",
   "execution_count": 28,
   "id": "d0d0b596",
   "metadata": {},
   "outputs": [
    {
     "data": {
      "text/plain": [
       "array([-1.11022302e-17,  4.44089210e-17,  0.00000000e+00])"
      ]
     },
     "execution_count": 28,
     "metadata": {},
     "output_type": "execute_result"
    }
   ],
   "source": [
    "X_centered.mean(0)"
   ]
  },
  {
   "cell_type": "markdown",
   "id": "891b5748",
   "metadata": {},
   "source": [
    "## Plotting a two dimensional function"
   ]
  },
  {
   "cell_type": "code",
   "execution_count": 29,
   "id": "6a7f234d",
   "metadata": {},
   "outputs": [],
   "source": [
    "x = np.linspace(0, 5, 50)\n",
    "y = np.linspace(0, 5, 50)[:, np.newaxis]\n",
    "z = np.sin(x) ** 10 + np.cos(10 + y * x) * np.cos(x)"
   ]
  },
  {
   "cell_type": "code",
   "execution_count": 30,
   "id": "5d3f5d2a",
   "metadata": {},
   "outputs": [],
   "source": [
    "%matplotlib inline\n",
    "import matplotlib.pyplot as plt"
   ]
  },
  {
   "cell_type": "code",
   "execution_count": 31,
   "id": "e4139680",
   "metadata": {},
   "outputs": [
    {
     "data": {
      "image/png": "[encoded data removed]",
      "text/plain": [
       "<Figure size 640x480 with 2 Axes>"
      ]
     },
     "metadata": {},
     "output_type": "display_data"
    }
   ],
   "source": [
    "plt.imshow(z, origin='lower', extent=[0, 5, 0, 5],\n",
    "           cmap='viridis')\n",
    "plt.colorbar();"
   ]
  },
  {
   "cell_type": "markdown",
   "id": "f7d91951",
   "metadata": {},
   "source": [
    "# Comparisons, Masks, and Boolean Logic\n",
    "\n",
    "## Comparison operators as ufuncs\n",
    "\n",
    "NumPy implements comparison operators such as ```<``` and ```>``` . The result of these comparison operators is always an array with Boolean data type. All six of the standard comparison operations are available:\n",
    "\n",
    "<ul>\n",
    "    <li>  ``` < ```  </li>\n",
    "    <li>  ```>```  </li>\n",
    "    <li>  ```<=``` </li>\n",
    "    <li>  ```>=``` </li>\n",
    "    <li>  ```!=``` </li>\n",
    "    <li>  ```==``` </li>\n",
    "</ul>\n",
    "\n",
    "It is also possible to do an element-wise comparison of two arrays, and to include compound expressions:"
   ]
  },
  {
   "cell_type": "code",
   "execution_count": 6,
   "id": "bdef5ac7",
   "metadata": {
    "scrolled": true
   },
   "outputs": [
    {
     "data": {
      "text/plain": [
       "array([False, False,  True, False,  True])"
      ]
     },
     "execution_count": 6,
     "metadata": {},
     "output_type": "execute_result"
    }
   ],
   "source": [
    "x = np.arange(5)\n",
    "2 ** x == x ** 2"
   ]
  },
  {
   "cell_type": "markdown",
   "id": "34219db1",
   "metadata": {},
   "source": [
    "## Working with Boolean arrays \n",
    "\n",
    "\n",
    "### Countin entries\n",
    "\n",
    "To count the number of true in a boolean array we use the ```np.count_nonzero``` ufunc"
   ]
  },
  {
   "cell_type": "code",
   "execution_count": 7,
   "id": "abad5a7a",
   "metadata": {},
   "outputs": [
    {
     "data": {
      "text/plain": [
       "4"
      ]
     },
     "execution_count": 7,
     "metadata": {},
     "output_type": "execute_result"
    }
   ],
   "source": [
    "np.count_nonzero(x)"
   ]
  },
  {
   "cell_type": "markdown",
   "id": "4a9187ad",
   "metadata": {},
   "source": [
    "Another thing we can do is to use the ```np.sum``` ufunc"
   ]
  },
  {
   "cell_type": "code",
   "execution_count": 8,
   "id": "d1f808d1",
   "metadata": {},
   "outputs": [
    {
     "data": {
      "text/plain": [
       "2"
      ]
     },
     "execution_count": 8,
     "metadata": {},
     "output_type": "execute_result"
    }
   ],
   "source": [
    "np.sum(x < 2)"
   ]
  },
  {
   "cell_type": "markdown",
   "id": "4fd10a5c",
   "metadata": {},
   "source": [
    "In multidimensional arrays we can specify the axis using the ```axis``` parameter.\n",
    "\n",
    "If we wanna know if an statement it's true in an any or all elements of an array we can use the ```np.any``` or ```np.all``` commands. "
   ]
  },
  {
   "cell_type": "code",
   "execution_count": 9,
   "id": "6e342c26",
   "metadata": {},
   "outputs": [
    {
     "data": {
      "text/plain": [
       "True"
      ]
     },
     "execution_count": 9,
     "metadata": {},
     "output_type": "execute_result"
    }
   ],
   "source": [
    "np.any(x == 0)"
   ]
  },
  {
   "cell_type": "code",
   "execution_count": 10,
   "id": "656e8c64",
   "metadata": {},
   "outputs": [
    {
     "data": {
      "text/plain": [
       "False"
      ]
     },
     "execution_count": 10,
     "metadata": {},
     "output_type": "execute_result"
    }
   ],
   "source": [
    "np.all(x >3)"
   ]
  },
  {
   "cell_type": "markdown",
   "id": "42e37e44",
   "metadata": {},
   "source": [
    "In this statements the ```axes``` parameter can be use"
   ]
  },
  {
   "cell_type": "markdown",
   "id": "950481d0",
   "metadata": {},
   "source": [
    "### Boolean operators\n",
    "If we wanna to use more than one statement we can use the Python bitwise logic operators:\n",
    "<ul>\n",
    "    <li> ```&``` -> and </li>\n",
    "    <li> ```|``` -> or </li>\n",
    "    <li> ```^``` -> xor </li>\n",
    "    <li> ```~``` -> and </li>\n",
    "</ul>\n",
    "> Example"
   ]
  },
  {
   "cell_type": "code",
   "execution_count": 12,
   "id": "620c5f1d",
   "metadata": {},
   "outputs": [
    {
     "data": {
      "text/plain": [
       "True"
      ]
     },
     "execution_count": 12,
     "metadata": {},
     "output_type": "execute_result"
    }
   ],
   "source": [
    "np.any((x < 4) & (x > 2))"
   ]
  },
  {
   "cell_type": "markdown",
   "id": "03d4baea",
   "metadata": {},
   "source": [
    "## Boolean arrays as masks\n",
    "\n",
    "Use Boolean arrays as masks is a powerful pattern. This return us a sub-array that satisfies the statement.\n",
    "\n",
    "> example"
   ]
  },
  {
   "cell_type": "code",
   "execution_count": 13,
   "id": "35fb6ee1",
   "metadata": {},
   "outputs": [
    {
     "data": {
      "text/plain": [
       "array([3, 4])"
      ]
     },
     "execution_count": 13,
     "metadata": {},
     "output_type": "execute_result"
    }
   ],
   "source": [
    "x[x>2]"
   ]
  },
  {
   "cell_type": "markdown",
   "id": "471b6bbc",
   "metadata": {},
   "source": [
    "# Fancy indexing\n",
    "\n",
    "In this section we'll learn about Fancy Indexing, another type of index the arrays. This type of indexing is like simple indexin but we pass arrays of indices in place of single scalars: "
   ]
  },
  {
   "cell_type": "code",
   "execution_count": 1,
   "id": "3e758f35",
   "metadata": {},
   "outputs": [],
   "source": [
    "import numpy as np"
   ]
  },
  {
   "cell_type": "code",
   "execution_count": 5,
   "id": "376e9a13",
   "metadata": {},
   "outputs": [
    {
     "data": {
      "text/plain": [
       "[32, 38, 59]"
      ]
     },
     "execution_count": 5,
     "metadata": {},
     "output_type": "execute_result"
    }
   ],
   "source": [
    "rand = np.random.RandomState(42)\n",
    "x = np.random.randint(100, size = 10)\n",
    "[x[3], x[4], x[8]] # Fancy Indexing"
   ]
  },
  {
   "cell_type": "markdown",
   "id": "1ca1a39d",
   "metadata": {},
   "source": [
    "Alternatively:"
   ]
  },
  {
   "cell_type": "code",
   "execution_count": 6,
   "id": "412ec29f",
   "metadata": {},
   "outputs": [
    {
     "data": {
      "text/plain": [
       "array([32, 38, 59])"
      ]
     },
     "execution_count": 6,
     "metadata": {},
     "output_type": "execute_result"
    }
   ],
   "source": [
    "index = [3, 4, 8]\n",
    "x[index]"
   ]
  },
  {
   "cell_type": "markdown",
   "id": "a3a27018",
   "metadata": {},
   "source": [
    "With fancy we can also define the shape of the array we wanna create:"
   ]
  },
  {
   "cell_type": "code",
   "execution_count": 8,
   "id": "cf46949d",
   "metadata": {},
   "outputs": [
    {
     "data": {
      "text/plain": [
       "array([[74,  4],\n",
       "       [32, 59]])"
      ]
     },
     "execution_count": 8,
     "metadata": {},
     "output_type": "execute_result"
    }
   ],
   "source": [
    "ind =np.array([[2, 0],\n",
    "      [3, 8]])\n",
    "x[ind]"
   ]
  },
  {
   "cell_type": "markdown",
   "id": "f465a537",
   "metadata": {},
   "source": [
    "It also work in multidimensional arrays:"
   ]
  },
  {
   "cell_type": "code",
   "execution_count": 10,
   "id": "37ee984a",
   "metadata": {},
   "outputs": [
    {
     "data": {
      "text/plain": [
       "array([10, 17,  8])"
      ]
     },
     "execution_count": 10,
     "metadata": {},
     "output_type": "execute_result"
    }
   ],
   "source": [
    "y = np.arange(20).reshape((4,5))\n",
    "row = np.array([2, 3, 1])\n",
    "col = np.array([0, 2, 3])\n",
    "y[row,col]"
   ]
  },
  {
   "cell_type": "markdown",
   "id": "510dafb2",
   "metadata": {},
   "source": [
    "If we wanna combine the rows and column:"
   ]
  },
  {
   "cell_type": "code",
   "execution_count": 11,
   "id": "c3213bcb",
   "metadata": {},
   "outputs": [
    {
     "data": {
      "text/plain": [
       "array([[10, 12, 13],\n",
       "       [15, 17, 18],\n",
       "       [ 5,  7,  8]])"
      ]
     },
     "execution_count": 11,
     "metadata": {},
     "output_type": "execute_result"
    }
   ],
   "source": [
    "y[row[:,np.newaxis],col]"
   ]
  },
  {
   "cell_type": "markdown",
   "id": "8f1bccca",
   "metadata": {},
   "source": [
    "## Combined Indexing\n",
    "\n",
    "For more powerful operations we can combine diferents kinds of fancy indexing:\n"
   ]
  },
  {
   "cell_type": "code",
   "execution_count": 12,
   "id": "b008385b",
   "metadata": {},
   "outputs": [
    {
     "data": {
      "text/plain": [
       "array([[ 0,  1,  2,  3,  4],\n",
       "       [ 5,  6,  7,  8,  9],\n",
       "       [10, 11, 12, 13, 14],\n",
       "       [15, 16, 17, 18, 19]])"
      ]
     },
     "execution_count": 12,
     "metadata": {},
     "output_type": "execute_result"
    }
   ],
   "source": [
    "y"
   ]
  },
  {
   "cell_type": "code",
   "execution_count": 13,
   "id": "7dec53c0",
   "metadata": {},
   "outputs": [
    {
     "data": {
      "text/plain": [
       "array([12, 10, 11])"
      ]
     },
     "execution_count": 13,
     "metadata": {},
     "output_type": "execute_result"
    }
   ],
   "source": [
    "y[2,[2,0,1]]"
   ]
  },
  {
   "cell_type": "code",
   "execution_count": 14,
   "id": "a8f7a569",
   "metadata": {},
   "outputs": [
    {
     "data": {
      "text/plain": [
       "array([[ 7,  5,  6],\n",
       "       [12, 10, 11],\n",
       "       [17, 15, 16]])"
      ]
     },
     "execution_count": 14,
     "metadata": {},
     "output_type": "execute_result"
    }
   ],
   "source": [
    "y[1:,[2,0,1]]"
   ]
  },
  {
   "cell_type": "markdown",
   "id": "56ce413f",
   "metadata": {},
   "source": [
    "We can also combine fancy indexing with masking"
   ]
  },
  {
   "cell_type": "code",
   "execution_count": 15,
   "id": "47555234",
   "metadata": {},
   "outputs": [
    {
     "data": {
      "text/plain": [
       "array([[10, 11, 14],\n",
       "       [15, 16, 19],\n",
       "       [ 5,  6,  9]])"
      ]
     },
     "execution_count": 15,
     "metadata": {},
     "output_type": "execute_result"
    }
   ],
   "source": [
    "mask = np.array([1,1,0,0,1], dtype=bool)\n",
    "y[row[:,np.newaxis],mask]"
   ]
  },
  {
   "cell_type": "markdown",
   "id": "2f5d3eb1",
   "metadata": {},
   "source": [
    "## Modifying values with fancy indexing"
   ]
  },
  {
   "cell_type": "code",
   "execution_count": 16,
   "id": "bd195e87",
   "metadata": {},
   "outputs": [],
   "source": [
    "z = np.arange(10)\n",
    "i = np.array([0, 3, 2, 1])\n",
    "z[i] = 99"
   ]
  },
  {
   "cell_type": "code",
   "execution_count": 17,
   "id": "b87df6ab",
   "metadata": {},
   "outputs": [
    {
     "data": {
      "text/plain": [
       "array([99, 99, 99, 99,  4,  5,  6,  7,  8,  9])"
      ]
     },
     "execution_count": 17,
     "metadata": {},
     "output_type": "execute_result"
    }
   ],
   "source": [
    "z"
   ]
  },
  {
   "cell_type": "markdown",
   "id": "dc17796b",
   "metadata": {},
   "source": [
    "Let's see some interesant features."
   ]
  },
  {
   "cell_type": "code",
   "execution_count": 21,
   "id": "537c9fce",
   "metadata": {},
   "outputs": [
    {
     "data": {
      "text/plain": [
       "array([103, 103,  99,  99,   4,   5,   6,   7,   8,   9])"
      ]
     },
     "execution_count": 21,
     "metadata": {},
     "output_type": "execute_result"
    }
   ],
   "source": [
    "j = np.array([0,0,1])\n",
    "z[j] += 1\n",
    "z"
   ]
  },
  {
   "cell_type": "markdown",
   "id": "21d71223",
   "metadata": {},
   "source": [
    "Notice that 0 than 1 index also be incremented by 1, but 0 is twice doing the operation Why? This is because += it's not a in-place aplication. With this in mind we can use the at() method"
   ]
  },
  {
   "cell_type": "code",
   "execution_count": 23,
   "id": "fd63210b",
   "metadata": {},
   "outputs": [
    {
     "data": {
      "text/plain": [
       "array([107, 105,  99,  99,   4,   5,   6,   7,   8,   9])"
      ]
     },
     "execution_count": 23,
     "metadata": {},
     "output_type": "execute_result"
    }
   ],
   "source": [
    "np.add.at(z,j,1)\n",
    "z"
   ]
  },
  {
   "cell_type": "markdown",
   "id": "99ccfe0c",
   "metadata": {},
   "source": [
    "Another method that does an in-place aplication is the ```reduceat()``` method"
   ]
  },
  {
   "cell_type": "markdown",
   "id": "a8386332",
   "metadata": {},
   "source": [
    "# Sorting Arrays\n",
    "\n",
    "\n",
    "\n",
    "## Fast Sorting in NumPy: ```np.sort``` and ```np.argsort```\n",
    "\n",
    "By default ````np.sort``` uses an $O[N log N]$, quicksort algorithm, though mergesort and heapsort are also available. For more aplications, the default quicksort is more than sufficient"
   ]
  },
  {
   "cell_type": "code",
   "execution_count": null,
   "id": "5472b8a7",
   "metadata": {},
   "outputs": [],
   "source": [
    "import numpy as np"
   ]
  },
  {
   "cell_type": "code",
   "execution_count": null,
   "id": "b5271f29",
   "metadata": {},
   "outputs": [],
   "source": [
    "x = np.array([5 ,3, 2, 1, 4])\n",
    "np.sort(x)"
   ]
  },
  {
   "cell_type": "markdown",
   "id": "0df5937b",
   "metadata": {},
   "source": [
    "If you prefer to sort the array in-place, you can use de sort method of arrays:"
   ]
  },
  {
   "cell_type": "code",
   "execution_count": null,
   "id": "3a6c286d",
   "metadata": {},
   "outputs": [],
   "source": [
    "x.sort()\n",
    "x"
   ]
  },
  {
   "cell_type": "markdown",
   "id": "53449b72",
   "metadata": {},
   "source": [
    "A related function is ```np.argsort``` which returns the indices of the sorted elements:"
   ]
  },
  {
   "cell_type": "code",
   "execution_count": 1,
   "id": "7e169533",
   "metadata": {},
   "outputs": [
    {
     "ename": "NameError",
     "evalue": "name 'np' is not defined",
     "output_type": "error",
     "traceback": [
      "\u001b[1;31m---------------------------------------------------------------------------\u001b[0m",
      "\u001b[1;31mNameError\u001b[0m                                 Traceback (most recent call last)",
      "\u001b[1;32m~\\AppData\\Local\\Temp\\ipykernel_14980\\129901954.py\u001b[0m in \u001b[0;36m<module>\u001b[1;34m\u001b[0m\n\u001b[1;32m----> 1\u001b[1;33m \u001b[0mx\u001b[0m \u001b[1;33m=\u001b[0m \u001b[0mnp\u001b[0m\u001b[1;33m.\u001b[0m\u001b[0marray\u001b[0m\u001b[1;33m(\u001b[0m\u001b[1;33m[\u001b[0m\u001b[1;36m5\u001b[0m \u001b[1;33m,\u001b[0m\u001b[1;36m3\u001b[0m\u001b[1;33m,\u001b[0m \u001b[1;36m2\u001b[0m\u001b[1;33m,\u001b[0m \u001b[1;36m1\u001b[0m\u001b[1;33m,\u001b[0m \u001b[1;36m4\u001b[0m\u001b[1;33m]\u001b[0m\u001b[1;33m)\u001b[0m\u001b[1;33m\u001b[0m\u001b[1;33m\u001b[0m\u001b[0m\n\u001b[0m\u001b[0;32m      2\u001b[0m \u001b[0mi\u001b[0m \u001b[1;33m=\u001b[0m \u001b[0mnp\u001b[0m\u001b[1;33m.\u001b[0m\u001b[0margsort\u001b[0m\u001b[1;33m(\u001b[0m\u001b[0mx\u001b[0m\u001b[1;33m)\u001b[0m\u001b[1;33m\u001b[0m\u001b[1;33m\u001b[0m\u001b[0m\n\u001b[0;32m      3\u001b[0m \u001b[0mi\u001b[0m\u001b[1;33m\u001b[0m\u001b[1;33m\u001b[0m\u001b[0m\n",
      "\u001b[1;31mNameError\u001b[0m: name 'np' is not defined"
     ]
    }
   ],
   "source": [
    "x = np.array([5 ,3, 2, 1, 4])\n",
    "i = np.argsort(x)\n",
    "i"
   ]
  },
  {
   "cell_type": "code",
   "execution_count": null,
   "id": "df47cf08",
   "metadata": {},
   "outputs": [],
   "source": [
    "x[i] #Sorting by indices"
   ]
  },
  {
   "cell_type": "markdown",
   "id": "1de99111",
   "metadata": {},
   "source": [
    "### Sorting along rows or columns\n",
    "\n",
    "This useful feature it's possible using the ```axis``` argument"
   ]
  },
  {
   "cell_type": "code",
   "execution_count": null,
   "id": "ea1a7bee",
   "metadata": {},
   "outputs": [],
   "source": [
    "rand = np.random.RandomState(42)\n",
    "x = rand.randint(0, 10, (4 ,6))\n",
    "x"
   ]
  },
  {
   "cell_type": "code",
   "execution_count": null,
   "id": "49fae13c",
   "metadata": {},
   "outputs": [],
   "source": [
    "np.sort(x, axis = 0) #Sorting by column"
   ]
  },
  {
   "cell_type": "code",
   "execution_count": null,
   "id": "4ef8017f",
   "metadata": {},
   "outputs": [],
   "source": [
    "np.sort(x,axis = 1) # Sorting by row"
   ]
  },
  {
   "cell_type": "markdown",
   "id": "a2a232c2",
   "metadata": {},
   "source": [
    "## Partial Sorts: Partitioning\n",
    "\n",
    "\n",
    "If we're no interested in sort the entire array, but only know the smallest k values of an array, we can use ```np.partition```:"
   ]
  },
  {
   "cell_type": "code",
   "execution_count": null,
   "id": "0c043ea6",
   "metadata": {},
   "outputs": [],
   "source": [
    "\n",
    "y = np.array([7, 2, 3, 1, 6, 5, 4])\n",
    "np.partition(y, 3)"
   ]
  },
  {
   "cell_type": "markdown",
   "id": "8dae8ab0",
   "metadata": {},
   "source": [
    "note that the first three values in the resulting array are the three smallest values in the array. We can apply this to multidimensional arrays:"
   ]
  },
  {
   "cell_type": "code",
   "execution_count": null,
   "id": "b8a3af15",
   "metadata": {},
   "outputs": [],
   "source": [
    "np.partition(x, 2, axis = 1)"
   ]
  },
  {
   "cell_type": "markdown",
   "id": "6bdf0516",
   "metadata": {},
   "source": [
    "Finally, theres is the ```np.argpatition``` that computes the indices of the partition."
   ]
  },
  {
   "cell_type": "code",
   "execution_count": 2,
   "id": "91e17c28",
   "metadata": {},
   "outputs": [
    {
     "ename": "NameError",
     "evalue": "name 'rand' is not defined",
     "output_type": "error",
     "traceback": [
      "\u001b[1;31m---------------------------------------------------------------------------\u001b[0m",
      "\u001b[1;31mNameError\u001b[0m                                 Traceback (most recent call last)",
      "\u001b[1;32m~\\AppData\\Local\\Temp\\ipykernel_14980\\3280771358.py\u001b[0m in \u001b[0;36m<module>\u001b[1;34m\u001b[0m\n\u001b[1;32m----> 1\u001b[1;33m \u001b[0mX\u001b[0m \u001b[1;33m=\u001b[0m \u001b[0mrand\u001b[0m\u001b[1;33m.\u001b[0m\u001b[0mrand\u001b[0m\u001b[1;33m(\u001b[0m\u001b[1;36m10\u001b[0m\u001b[1;33m,\u001b[0m \u001b[1;36m2\u001b[0m\u001b[1;33m)\u001b[0m\u001b[1;33m\u001b[0m\u001b[1;33m\u001b[0m\u001b[0m\n\u001b[0m\u001b[0;32m      2\u001b[0m \u001b[0mX\u001b[0m\u001b[1;33m\u001b[0m\u001b[1;33m\u001b[0m\u001b[0m\n",
      "\u001b[1;31mNameError\u001b[0m: name 'rand' is not defined"
     ]
    }
   ],
   "source": [
    "X = rand.rand(10, 2)\n",
    "X"
   ]
  },
  {
   "cell_type": "markdown",
   "id": "7ebe42f0",
   "metadata": {},
   "source": [
    "## Structured Data: Numpy's structured arrays\n",
    "\n",
    "This type of array can relate arrays with different kind of data type:"
   ]
  },
  {
   "cell_type": "code",
   "execution_count": 5,
   "id": "48d1deb0",
   "metadata": {},
   "outputs": [],
   "source": [
    "import numpy as np"
   ]
  },
  {
   "cell_type": "code",
   "execution_count": 3,
   "id": "cd64b2a2",
   "metadata": {},
   "outputs": [],
   "source": [
    "name = ['alice','Bob', 'Cathy', 'Doug']\n",
    "age = [25, 45, 37, 19]\n",
    "weight = [55, 85.5, 68, 61.5]"
   ]
  },
  {
   "cell_type": "code",
   "execution_count": 4,
   "id": "0a8f6150",
   "metadata": {},
   "outputs": [
    {
     "name": "stdout",
     "output_type": "stream",
     "text": [
      "[('name', '<U10'), ('age', '<i4'), ('weigth', '<f8')]\n"
     ]
    }
   ],
   "source": [
    "data = np.zeros(4, dtype={'names':('name', 'age', 'weigth'), 'formats':('U10', 'i4', 'f8')})\n",
    "print(data.dtype)"
   ]
  },
  {
   "cell_type": "markdown",
   "id": "dac82df6",
   "metadata": {},
   "source": [
    "Here 'U10' traslate to: \"Unicode Strig of maximym length 10\", 'i4' to \"4-byte (i.e. 32 bit) integer\", and 'f8' to \"8-byte (i.e. 64 bit) float\". Now we can relate the arrays we created before"
   ]
  },
  {
   "cell_type": "code",
   "execution_count": 5,
   "id": "3434a49c",
   "metadata": {},
   "outputs": [
    {
     "name": "stdout",
     "output_type": "stream",
     "text": [
      "[('alice', 25, 55. ) ('Bob', 45, 85.5) ('Cathy', 37, 68. )\n",
      " ('Doug', 19, 61.5)]\n"
     ]
    }
   ],
   "source": [
    "data['name'] = name\n",
    "data['age'] = age\n",
    "data['weigth'] = weight\n",
    "print(data)"
   ]
  },
  {
   "cell_type": "markdown",
   "id": "e98260ad",
   "metadata": {},
   "source": [
    "the handy thing with this is that you can now refer to values either to index or by name"
   ]
  },
  {
   "cell_type": "code",
   "execution_count": 6,
   "id": "4244dd80",
   "metadata": {},
   "outputs": [
    {
     "data": {
      "text/plain": [
       "array(['alice', 'Bob', 'Cathy', 'Doug'], dtype='<U10')"
      ]
     },
     "execution_count": 6,
     "metadata": {},
     "output_type": "execute_result"
    }
   ],
   "source": [
    "data['name']"
   ]
  },
  {
   "cell_type": "code",
   "execution_count": 7,
   "id": "78bee116",
   "metadata": {},
   "outputs": [
    {
     "data": {
      "text/plain": [
       "('alice', 25, 55.)"
      ]
     },
     "execution_count": 7,
     "metadata": {},
     "output_type": "execute_result"
    }
   ],
   "source": [
    "data[0]"
   ]
  },
  {
   "cell_type": "code",
   "execution_count": 8,
   "id": "3db47dc2",
   "metadata": {},
   "outputs": [
    {
     "data": {
      "text/plain": [
       "'Doug'"
      ]
     },
     "execution_count": 8,
     "metadata": {},
     "output_type": "execute_result"
    }
   ],
   "source": [
    "data[-1]['name']"
   ]
  },
  {
   "cell_type": "markdown",
   "id": "fbeb5dc0",
   "metadata": {},
   "source": [
    "You can also use boolean masking to do some more sophisticated operations:"
   ]
  },
  {
   "cell_type": "code",
   "execution_count": 9,
   "id": "dc1d6e44",
   "metadata": {},
   "outputs": [
    {
     "data": {
      "text/plain": [
       "array(['alice', 'Doug'], dtype='<U10')"
      ]
     },
     "execution_count": 9,
     "metadata": {},
     "output_type": "execute_result"
    }
   ],
   "source": [
    "data[data['age'] < 30]['name']"
   ]
  },
  {
   "attachments": {
    "image.png": {
     "image/png": "[encoded data removed]"
    }
   },
   "cell_type": "markdown",
   "id": "0aafc0f9",
   "metadata": {},
   "source": [
    "> For clarity, numerical types can be specified with Python types or NumPy dtypes instead: \n",
    "\n",
    "![image.png](attachment:image.png)\n",
    "\n",
    "### More Advanced Compound Types\n",
    "\n",
    "It's possible to define even more advanced compound types. F.E. you can create a type where the elements are in a matrix:"
   ]
  },
  {
   "cell_type": "code",
   "execution_count": 10,
   "id": "56fab733",
   "metadata": {},
   "outputs": [
    {
     "name": "stdout",
     "output_type": "stream",
     "text": [
      "(0, [[0., 0., 0.], [0., 0., 0.], [0., 0., 0.]])\n",
      "[[0. 0. 0.]\n",
      " [0. 0. 0.]\n",
      " [0. 0. 0.]]\n"
     ]
    }
   ],
   "source": [
    "tp = np.dtype([('id', 'i8'),('mat', 'f8', (3,3))])\n",
    "X = np.zeros(1, dtype = tp)\n",
    "print(X[0])\n",
    "print(X['mat'][0])"
   ]
  },
  {
   "cell_type": "markdown",
   "id": "1bb3b0c0",
   "metadata": {},
   "source": [
    "### RecordArrays: Structured arrays with a Twist:\n",
    "\n",
    "NumPy also provides the ```np.recarray``` class, which is almost identical to structured arrays just described, but with one additional feature: can be accessed as attributes rather than as dictionary keys. Coming back to the previous example:"
   ]
  },
  {
   "cell_type": "code",
   "execution_count": 11,
   "id": "eddd59c7",
   "metadata": {},
   "outputs": [
    {
     "data": {
      "text/plain": [
       "array([25, 45, 37, 19])"
      ]
     },
     "execution_count": 11,
     "metadata": {},
     "output_type": "execute_result"
    }
   ],
   "source": [
    "data['age']"
   ]
  },
  {
   "cell_type": "markdown",
   "id": "57e26c10",
   "metadata": {},
   "source": [
    "Instead of viewing the data like a dictionary, we now try to see it like a record array"
   ]
  },
  {
   "cell_type": "code",
   "execution_count": 12,
   "id": "fba47de4",
   "metadata": {},
   "outputs": [
    {
     "data": {
      "text/plain": [
       "array([25, 45, 37, 19])"
      ]
     },
     "execution_count": 12,
     "metadata": {},
     "output_type": "execute_result"
    }
   ],
   "source": [
    "data_RA = data.view(np.recarray)\n",
    "data_RA.age"
   ]
  },
  {
   "cell_type": "markdown",
   "id": "0f97216a",
   "metadata": {},
   "source": [
    "The downside is that for record arrays, there's some extra calculation time"
   ]
  },
  {
   "cell_type": "code",
   "execution_count": 13,
   "id": "c01d8821",
   "metadata": {},
   "outputs": [
    {
     "name": "stdout",
     "output_type": "stream",
     "text": [
      "353 ns ± 16.6 ns per loop (mean ± std. dev. of 7 runs, 10000000 loops each)\n",
      "6.13 µs ± 636 ns per loop (mean ± std. dev. of 7 runs, 100000 loops each)\n",
      "9.12 µs ± 979 ns per loop (mean ± std. dev. of 7 runs, 100000 loops each)\n"
     ]
    }
   ],
   "source": [
    "%timeit data['age']\n",
    "%timeit data_RA['age']\n",
    "%timeit data_RA.age"
   ]
  }
 ],
 "metadata": {
  "kernelspec": {
   "display_name": "Python 3 (ipykernel)",
   "language": "python",
   "name": "python3"
  },
  "language_info": {
   "codemirror_mode": {
    "name": "ipython",
    "version": 3
   },
   "file_extension": ".py",
   "mimetype": "text/x-python",
   "name": "python",
   "nbconvert_exporter": "python",
   "pygments_lexer": "ipython3",
   "version": "3.9.13"
  }
 },
 "nbformat": 4,
 "nbformat_minor": 5
}
